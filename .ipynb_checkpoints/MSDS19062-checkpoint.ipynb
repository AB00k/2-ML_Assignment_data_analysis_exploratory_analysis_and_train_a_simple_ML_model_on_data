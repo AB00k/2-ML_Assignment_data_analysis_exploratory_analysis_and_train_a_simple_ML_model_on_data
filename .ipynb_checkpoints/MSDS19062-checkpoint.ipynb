{
 "cells": [
  {
   "cell_type": "markdown",
   "metadata": {},
   "source": [
    "<h1><center>Data Science Lab</center>\n",
    "<center>Homework 2</center></h1>"
   ]
  },
  {
   "cell_type": "markdown",
   "metadata": {},
   "source": [
    "**-**\n",
    "<h1>Instructions:</h1>\n",
    "* The aim of this homework is to give you understanding of Data Science pipeline. "
   ]
  },
  {
   "cell_type": "markdown",
   "metadata": {},
   "source": [
    "## Data Science Pipeline"
   ]
  },
  {
   "cell_type": "markdown",
   "metadata": {},
   "source": [
    "Data is a commodity, but without ways to process it, its value is questionable. Data science is a multidisciplinary field whose goal is to extract value from data in all its forms. This discussion aims to explore the field of data science through data and its structure as well as the high-level process that you can use to transform data into value.\n",
    "\n",
    "Data science is a process. That's not to say it's mechanical and void of creativity. But, when you dig into the stages of processing data, from munging data sources and data cleansing to machine learning and eventually visualization, you see that unique steps are involved in transforming raw data into insight.\n",
    "\n",
    "The steps that you use can also vary (see Figure 1). In exploratory data analysis, you might have a cleansed data set that's ready to import into Python, and you visualize your result but don't deploy the model in a production environment. In another environment, you might be dealing with real-world data and require a process of data merging and cleansing in addition to data scaling and preparation before you can train your machine learning model.\n",
    "\n",
    "<font color='blue'>Figure 1. The Data Science Pipeline</font>\n",
    "<img src=\"img/Figure01.png\">\n",
    "\n",
    "Let's start by digging into the elements of the data science pipeline to understand the process.\n",
    "\n",
    "<h3>Data and its Structure</h3>\n",
    "\n",
    "Data comes in many forms, but at a high level, it falls into three categories: structured, semi-structured, and unstructured (see Figure 2). Structured data is highly organized data that exists within a repository such as a database (or a comma-separated values [CSV] file). The data is easily accessible, and the format of the data makes it appropriate for queries and computation (by using languages such as Structured Query Language (SQL) or Apache™ Hive™). Unstructured data lacks any content structure at all (for example, an audio stream or natural language text). In the middle is semi-structure data, which can include metadata or data that can be more easily processed than unstructured data by using semantic tagging. This data is not fully structured because the lowest-level contents might still represent data that requires some processing to be useful.\n",
    "\n",
    "Figure 2. Models of data\n",
    "<img src=\"img/Figure02.png\">\n",
    "\n",
    "Structured data is the most useful form of data because it can be immediately manipulated. The rule-of-thumb is that structured data represents only 20% of total data. Most of the data in the world (80% of available data) is unstructured or semi-structured.\n",
    "\n",
    "Note that much of what is defined as unstructured data actually has structure (such as a document that has metadata and tags for the content), but the content itself lacks structure and is not immediately usable. Therefore, it is considered unstructured.\n",
    "\n",
    "<h3>Data Engineering</h3>\n",
    "\n",
    "A survey in 2016 found that data scientists spend 80% of their time collecting, cleaning, and preparing data for use in machine learning. The remaining 20% they spend mining or modeling data by using machine learning algorithms. Although it's the least enjoyable part of the process, this data engineering is important and has ramifications for the quality of the results from the machine learning phase.\n",
    "\n",
    "I split data engineering into three parts: wrangling, cleansing, and preparation. Given the drudgery that is involved in this phase, some call this process data munging.\n",
    "\n",
    "<h3>Data Wrangling</h3>\n",
    "\n",
    "Data wrangling, simply defined, is the process of manipulating raw data to make it useful for data analytics or to train a machine learning model. This part of data engineering can include sourcing the data from one or more data sets (in addition to reducing the set to the required data), normalizing the data so that data merged from multiple data sets is consistent, and parsing data into some structure or storage for further use. Consider a public data set from a federal open data website. This data might exist as a spreadsheet file that you would need to export into a format more acceptable to data science languages (CSV or JavaScript Object Notation). The data source might also be a website from which an automated tool scraped the data. Finally, the data could come from multiple sources, which requires that you choose a common format for the resulting data set.\n",
    "\n",
    "This resulting data set would likely require post-processing to support its import into an analytics application (such as the Anaconda Enviornment, the GNU Data Language, or Apache Hadoop). Data wrangling, then, is the process by which you identify, collect, merge, and preprocess one or more data sets in preparation for data cleansing.\n",
    "\n",
    "<h3>Data cleansing</h3>\n",
    "\n",
    "After you have collected and merged your data set, the next step is cleansing. Data sets in the wild are typically messy and infected with any number of common issues, including missing values (or too many values), bad or incorrect delimiters (which segregate the data), inconsistent records, or insufficient parameters. In some cases, the data cannot be repaired and so must be removed; in other cases, it can be manually or automatically corrected.\n",
    "\n",
    "When your data set is syntactically correct, the next step is to ensure that it is semantically correct. In a data set that contains numerical data, you'll have outliers that require closer inspection. You can discover these outliers through statistical analysis, looking at the mean and averages as well as the standard deviation. Searching for outliers is a secondary method of cleansing to ensure that the data is uniform and accurate.\n",
    "\n",
    "<h3>Data preparation</h3>\n",
    "\n",
    "The final step in data engineering is data preparation (or preprocessing). This step assumes that you have a cleansed data set that might not be ready for processing by a machine learning algorithm. Here are a couple of examples where this preparation could apply.\n",
    "\n",
    "In some cases, normalization of data can be useful. Using normalization, you transform an input feature to distribute the data evenly into an acceptable range for the machine learning algorithm. This task can be as simple as linear scaling (from an arbitrary range given a domain minimum and maximum from -1.0 to 1.0). You can also apply more complicated statistical approaches. Data normalization can help you avoid getting stuck in a local optima during the training process (in the context of neural networks).\n",
    "\n",
    "Another useful technique in data preparation is the conversion of categorical data into numerical values. Consider a data set that includes a set of symbols that represent a feature (such as {T0..T5}). As a string, this isn't useful as an input to a neural network, but you can transform it by using a one-of-K scheme (also known as one-hot encoding).\n",
    "\n",
    "In this scheme (illustrated in Figure 3), you identify the number of symbols for the feature — in this case, six — and then create six features to represent the original field. For each symbol, you set just one feature, which allows a proper representation of the distinct elements of the symbol. You pay the price in increased dimensionality, but in doing so, you provide a feature vector that works better for machine learning algorithms.\n",
    "\n",
    "Figure 3. Transforming a string into a one-hot vector\n",
    "<img src=\"img/Figure03.png\">\n",
    "An alternative is integer encoding (where T0 could be value 0, T1 value 1, and so on), but this approach can introduce problems in representation. For example, in a real-valued output, what does 0.5 represent?\n",
    "\n",
    "<h3>Machine learning</h3>\n",
    "\n",
    "In this phase, you create and validate a machine learning model. Sometimes, the machine learning model is the product, which is deployed in the context of an application to provide some capability (such as classification or prediction). In other cases, the machine learning algorithm is just a means to an end. In these cases, the product isn't the trained machine learning algorithm but rather the data that it produces.\n",
    "\n",
    "This section discusses the construction and validation of a machine learning model. You can learn more about machine learning from data in Gaining invaluable insight from clean data sets.\n",
    "\n",
    "<h3>Model learning</h3>\n",
    "\n",
    "The meat of the data science pipeline is the data processing step. In one model, the algorithm can process the data, with a new data product as the result. But, in a production sense, the machine learning model is the product itself, deployed to provide insight or add value (such as the deployment of a neural network to provide prediction capabilities for an insurance market).\n",
    "\n",
    "Machine learning approaches are vast and varied, as shown in Figure 4. This small list of machine learning algorithms (segregated by learning model) illustrates the richness of the capabilities that are provided through machine learning.\n",
    "\n",
    "Figure 4. Machine learning approaches\n",
    "<img src=\"img/Figure04.png\">\n",
    "\n",
    "Supervised learning, as the name suggests, is driven by a critic that provides the means to alter the model based on its result. Given a data set with a class (that is, a dependent variable), the algorithm is trained to produce the correct class and alter the model when it fails to do so. The model is trained until it reaches some level of accuracy, at which point you could deploy it to provide prediction for unseen data.\n",
    "\n",
    "In contrast, unsupervised learning has no class; instead, it inspects the data and groups it based on some structure that is hidden within the data. You could apply these types of algorithms in recommendation systems by grouping customers based on the viewing or purchasing history.\n",
    "\n",
    "Finally, reinforcement learning is a semi-supervised learning algorithm that provides a reward after the model makes some number of decisions that lead to a satisfactory result. This type of model is used to create agents that act rationally in some state/action space (such as a poker-playing agent).\n",
    "\n",
    "We would limit our scope to the above points and skip Model Validation and Model Deployment for now."
   ]
  },
  {
   "cell_type": "markdown",
   "metadata": {},
   "source": [
    "### Please read the above Text and Answer the Questions"
   ]
  },
  {
   "cell_type": "markdown",
   "metadata": {},
   "source": [
    "**Please edit this cell and paste your answer here:**\n",
    "\n",
    "Example:\n",
    "Q 20) \n",
    "\n",
    "Q 1) a\n",
    "\n",
    "Q 2) a\n",
    "\n",
    "Q 3) b\n",
    "\n",
    "Q 4) d\n",
    "\n",
    "Q 5) a\n",
    "\n",
    "Q 6) e\n",
    "\n",
    "Q 7) d\n",
    "\n",
    "Q 8) a\n",
    "\n",
    "Q 9) d\n",
    "\n",
    "Q 10) a\n",
    "\n",
    "Q 11) e"
   ]
  },
  {
   "cell_type": "markdown",
   "metadata": {},
   "source": [
    "##### Q 1) CSV file is an example of which type of data:\n",
    "> a) Structured Data\n",
    "<br>\n",
    "> b) Semi-Structured Data\n",
    "<br>\n",
    "> c) Unstructured Data\n",
    "<br>\n",
    "> d) Relational Data"
   ]
  },
  {
   "cell_type": "markdown",
   "metadata": {},
   "source": [
    "##### Q 2) Which of the following data can be queried using SQL or Hive.\n",
    "> a) Structured Data\n",
    "<br>\n",
    "> b) Semi-Structured Data\n",
    "<br>\n",
    "> c) Unstructured Data\n",
    "<br>\n",
    "> d) None"
   ]
  },
  {
   "cell_type": "markdown",
   "metadata": {},
   "source": [
    "##### Q 3) Semantic tagging is a technique used to easily process which data\n",
    "> a) Structured Data\n",
    "<br>\n",
    "> b) Semi-Structured Data\n",
    "<br>\n",
    "> c) Unstructured Data\n",
    "<br>\n",
    "> d) Relational Data"
   ]
  },
  {
   "cell_type": "markdown",
   "metadata": {},
   "source": [
    "##### Q 4) According to a survey in 2016, data scientists spend 20% of their time\n",
    "> a) Collecting Data\n",
    "<br>\n",
    "> b) Cleaning Data\n",
    "<br>\n",
    "> c) Preparing Data\n",
    "<br>\n",
    "> d) Modelling Data"
   ]
  },
  {
   "cell_type": "markdown",
   "metadata": {},
   "source": [
    "##### Q5) Process of manipulating raw data to make it useful for data analytics or to train a machine learning model is called\n",
    "> a) Data Wrangling\n",
    "<br>\n",
    "> b) Data Cleansing\n",
    "<br>\n",
    "> c) Data Preparation\n",
    "<br>\n",
    "> d) Data Modeling"
   ]
  },
  {
   "cell_type": "markdown",
   "metadata": {},
   "source": [
    "##### Q6) Which of the following are data cleaning issues?\n",
    "> a) Missing Values\n",
    "<br>\n",
    "> b) Incorrect Delimiters\n",
    "<br>\n",
    "> c) Inconsistent Records\n",
    "<br>\n",
    "> d) Outliers\n",
    "<br>\n",
    "> e) All of the mentioned"
   ]
  },
  {
   "cell_type": "markdown",
   "metadata": {},
   "source": [
    "##### Q7) Which of the following is a way to detect outliers.\n",
    "\n",
    "> a) Looking at mean and standard deviation\n",
    "<br>\n",
    "> b) Looking at distribution of data\n",
    "<br>\n",
    "> c) Plotting using Box Plot\n",
    "<br>\n",
    "> d) All of the mentioned"
   ]
  },
  {
   "cell_type": "markdown",
   "metadata": {},
   "source": [
    "##### Q 8) Transforming an input feature to distribute the data evenly into an acceptable range is called\n",
    "> a) Normalization\n",
    "<br>\n",
    "> b) Modelling\n",
    "<br>\n",
    "> c) Standardization\n",
    "<br>\n",
    "> d) One-Hot Encoding\n",
    "<br>\n",
    "> e) None of the mentioned "
   ]
  },
  {
   "cell_type": "markdown",
   "metadata": {},
   "source": [
    "##### Q 9) Transforming an input feature so that, it have zero mean and unit variance.\n",
    "> a) Normalization\n",
    "<br>\n",
    "> b) Modelling\n",
    "<br>\n",
    "> c) Scaling\n",
    "<br>\n",
    "> d) Standardization\n",
    "<br>\n",
    "> e) One-Hot Encoding\n",
    "<br>\n",
    "> f) None of the mentioned "
   ]
  },
  {
   "cell_type": "markdown",
   "metadata": {},
   "source": [
    "##### Q 10) Which of the following is a pre-processing technique that is useful to avoid getting stuck in local optima during the training phase(in context of neural network)?\n",
    "> a) Normalization\n",
    "<br>\n",
    "> b) Modelling\n",
    "<br>\n",
    "> c) Standardization\n",
    "<br>\n",
    "> d) One-Hot Encoding\n",
    "<br>\n",
    "> e) None of the mentioned "
   ]
  },
  {
   "cell_type": "markdown",
   "metadata": {},
   "source": [
    "##### Q 11) Which of the following is a pre-processing technique that converts categorical data into numerical?\n",
    "> a) Normalization\n",
    "<br>\n",
    "> b) Modelling\n",
    "<br>\n",
    "> c) Scaling\n",
    "<br>\n",
    "> d) Standardization\n",
    "<br>\n",
    "> e) One-Hot Encoding\n",
    "<br>\n",
    "> f) None of the mentioned "
   ]
  },
  {
   "cell_type": "markdown",
   "metadata": {},
   "source": [
    "##### Q 12) In the section \"Machine Learning\", a machine learning model is said to have capability to classify and predict. Could you differentiate between classification and prediction with suitable examples?"
   ]
  },
  {
   "cell_type": "markdown",
   "metadata": {},
   "source": [
    "\n",
    " Main difference between classification and prediction is the type of output: classification is for categorical output and \n",
    " prediction is for numerical output.\n",
    " \n",
    " For example, classifying emails as spam or not spam, classifying images as a dog or cat, classifying tumors as benign or         malignant are the examples of classification.\n",
    " \n",
    " For example, predicting the price of a house based on its square footage, number of bedrooms, and location."
   ]
  },
  {
   "cell_type": "markdown",
   "metadata": {},
   "source": [
    "##### Q 13) Machine learning is majorly divided into three categories; supervised, unsupervised and reinforcement learning. Differentiate between these three with suitable examples? Please do not copy from the text provided, show your understanding."
   ]
  },
  {
   "cell_type": "markdown",
   "metadata": {},
   "source": [
    "Supervised learning is a type of machine learning in which the model is trained using labeled data to predict the output for new inputs. The model is provided with a set of inputs and their corresponding outputs, and the goal is to learn a mapping between inputs and outputs. For example, a supervised learning algorithm can be used to classify images of handwritten digits as the number they represent, or to predict the price of a house based on its square footage, number of bedrooms, and location.\n",
    "\n",
    "Unsupervised learning is a type of machine learning in which the model is not provided with labeled data, and the goal is to discover hidden patterns or structures in the data. For example, unsupervised learning algorithms can be used to cluster a dataset of customers based on their spending habits, or to identify the underlying topics in a collection of documents.\n",
    "\n",
    "Reinforcement learning is a type of machine learning in which an agent learns to make decisions by interacting with its environment. The agent receives feedback in the form of rewards or punishments based on its actions, and the goal is to learn a policy that maximizes the cumulative reward over time. For example, a reinforcement learning algorithm can be used to train a robot to navigate through a maze, or to train an AI to play a game like chess or Go.\n",
    "\n",
    "In summary, Supervised learning is used when we have labeled data, Unsupervised learning is used when we don't have labeled data and Reinforcement learning is used when we have agents that learn by interacting with an environment and getting feedback in terms of rewards or punishments."
   ]
  },
  {
   "cell_type": "markdown",
   "metadata": {},
   "source": [
    "# Case Study"
   ]
  },
  {
   "cell_type": "markdown",
   "metadata": {},
   "source": [
    "<h2>Titanic: Machine Learning From Disaster</h2>"
   ]
  },
  {
   "cell_type": "markdown",
   "metadata": {},
   "source": [
    "<img src = \"img/titanic_ship.jpg\" >"
   ]
  },
  {
   "cell_type": "markdown",
   "metadata": {},
   "source": [
    "### Description"
   ]
  },
  {
   "cell_type": "markdown",
   "metadata": {},
   "source": [
    "The sinking of the RMS Titanic is one of the most infamous shipwrecks in history.  On April 15, 1912, during her maiden voyage, the Titanic sank after colliding with an iceberg, killing 1502 out of 2224 passengers and crew. This sensational tragedy shocked the international community and led to better safety regulations for ships.\n",
    "\n",
    "One of the reasons that the shipwreck led to such loss of life was that there were not enough lifeboats for the passengers and crew. Although there was some element of luck involved in surviving the sinking, some groups of people were more likely to survive than others, such as women, children, and the upper-class.\n",
    "\n",
    "In this challenge, we ask you to complete the analysis of what sorts of people were likely to survive. In particular, we ask you to apply the tools of machine learning to predict which passengers survived the tragedy.\n"
   ]
  },
  {
   "cell_type": "markdown",
   "metadata": {},
   "source": [
    "### Overview"
   ]
  },
  {
   "cell_type": "markdown",
   "metadata": {},
   "source": [
    "The data has been provided as a single training file:\n",
    "\n",
    "* training set (train.csv)\n",
    "\n",
    "The **training set** should be used to build your machine learning models. For the training set, we provide the outcome (also known as the “ground truth”) for each passenger. Your model will be based on “features” like passengers’ gender and class."
   ]
  },
  {
   "cell_type": "markdown",
   "metadata": {},
   "source": [
    "### Data Dictionary"
   ]
  },
  {
   "cell_type": "markdown",
   "metadata": {},
   "source": [
    "|<h3>**Variable**</h3>|<h3>**Definition**</h3>|<h3>**Key**</h3>|\n",
    "|:-|:-|:-|\n",
    "|PassengerId|Unique Identifier of each passenger||\n",
    "|Survived|Survival|0 = No, 1 = Yes|\n",
    "|Pclass|Ticket class|1 = 1st, 2 = 2nd, 3 = 3rd|\n",
    "|Name|Name of Passenger||\n",
    "|Sex|Gender||\n",
    "|Age|Age in years||\n",
    "|SibSp|# of siblings / spouses aboard the Titanic||\n",
    "|Parch|# of parents / children aboard the Titanic||\n",
    "|Ticket|Ticket number||\n",
    "|Fare|Passenger fare||\n",
    "|Cabin|Cabin number||\n",
    "|Embarked|Port of Embarkation|C = Cherbourg, Q = Queenstown, S = Southampton|"
   ]
  },
  {
   "cell_type": "markdown",
   "metadata": {},
   "source": [
    "* Detail of some of the variables is provided. You need to explore rest of the varibles yourself."
   ]
  },
  {
   "cell_type": "markdown",
   "metadata": {},
   "source": [
    "#### Import Libraries"
   ]
  },
  {
   "cell_type": "code",
   "execution_count": 10,
   "metadata": {},
   "outputs": [],
   "source": [
    "###\n",
    "### Please import all the libraries in this block\n",
    "### Write your code here\n",
    "###\n",
    "import pandas as pd\n",
    "import numpy as np\n",
    "import matplotlib.pyplot as plt\n",
    "import seaborn as sns\n"
   ]
  },
  {
   "cell_type": "code",
   "execution_count": 11,
   "metadata": {},
   "outputs": [],
   "source": [
    "%matplotlib inline"
   ]
  },
  {
   "cell_type": "markdown",
   "metadata": {},
   "source": [
    "#### Read Data"
   ]
  },
  {
   "cell_type": "code",
   "execution_count": 12,
   "metadata": {},
   "outputs": [],
   "source": [
    "### \n",
    "### Using pandas library read the data in a dataframe\n",
    "### Write your code here\n",
    "###\n",
    "train = pd.read_csv('train.csv')\n"
   ]
  },
  {
   "cell_type": "markdown",
   "metadata": {},
   "source": [
    "#### Dimensions of Data"
   ]
  },
  {
   "cell_type": "code",
   "execution_count": 13,
   "metadata": {},
   "outputs": [
    {
     "data": {
      "text/plain": [
       "(891, 12)"
      ]
     },
     "execution_count": 13,
     "metadata": {},
     "output_type": "execute_result"
    }
   ],
   "source": [
    "### \n",
    "### Print Number of Rows and Columns in the dataset\n",
    "### Write your code here\n",
    "###\n",
    "train.shape"
   ]
  },
  {
   "cell_type": "markdown",
   "metadata": {},
   "source": [
    "#### Peak at the Data"
   ]
  },
  {
   "cell_type": "code",
   "execution_count": 15,
   "metadata": {},
   "outputs": [
    {
     "data": {
      "text/html": [
       "<div>\n",
       "<style scoped>\n",
       "    .dataframe tbody tr th:only-of-type {\n",
       "        vertical-align: middle;\n",
       "    }\n",
       "\n",
       "    .dataframe tbody tr th {\n",
       "        vertical-align: top;\n",
       "    }\n",
       "\n",
       "    .dataframe thead th {\n",
       "        text-align: right;\n",
       "    }\n",
       "</style>\n",
       "<table border=\"1\" class=\"dataframe\">\n",
       "  <thead>\n",
       "    <tr style=\"text-align: right;\">\n",
       "      <th></th>\n",
       "      <th></th>\n",
       "      <th>PassengerId</th>\n",
       "      <th>Survived</th>\n",
       "      <th>Pclass</th>\n",
       "      <th>Name</th>\n",
       "      <th>Sex</th>\n",
       "      <th>Age</th>\n",
       "      <th>SibSp</th>\n",
       "      <th>Parch</th>\n",
       "      <th>Ticket</th>\n",
       "      <th>Fare</th>\n",
       "      <th>Cabin</th>\n",
       "      <th>Embarked</th>\n",
       "    </tr>\n",
       "  </thead>\n",
       "  <tbody>\n",
       "    <tr>\n",
       "      <th rowspan=\"10\" valign=\"top\">first 10</th>\n",
       "      <th>0</th>\n",
       "      <td>1</td>\n",
       "      <td>0</td>\n",
       "      <td>3</td>\n",
       "      <td>Braund, Mr. Owen Harris</td>\n",
       "      <td>male</td>\n",
       "      <td>22.0</td>\n",
       "      <td>1</td>\n",
       "      <td>0</td>\n",
       "      <td>A/5 21171</td>\n",
       "      <td>7.2500</td>\n",
       "      <td>NaN</td>\n",
       "      <td>S</td>\n",
       "    </tr>\n",
       "    <tr>\n",
       "      <th>1</th>\n",
       "      <td>2</td>\n",
       "      <td>1</td>\n",
       "      <td>1</td>\n",
       "      <td>Cumings, Mrs. John Bradley (Florence Briggs Th...</td>\n",
       "      <td>female</td>\n",
       "      <td>38.0</td>\n",
       "      <td>1</td>\n",
       "      <td>0</td>\n",
       "      <td>PC 17599</td>\n",
       "      <td>71.2833</td>\n",
       "      <td>C85</td>\n",
       "      <td>C</td>\n",
       "    </tr>\n",
       "    <tr>\n",
       "      <th>2</th>\n",
       "      <td>3</td>\n",
       "      <td>1</td>\n",
       "      <td>3</td>\n",
       "      <td>Heikkinen, Miss. Laina</td>\n",
       "      <td>female</td>\n",
       "      <td>26.0</td>\n",
       "      <td>0</td>\n",
       "      <td>0</td>\n",
       "      <td>STON/O2. 3101282</td>\n",
       "      <td>7.9250</td>\n",
       "      <td>NaN</td>\n",
       "      <td>S</td>\n",
       "    </tr>\n",
       "    <tr>\n",
       "      <th>3</th>\n",
       "      <td>4</td>\n",
       "      <td>1</td>\n",
       "      <td>1</td>\n",
       "      <td>Futrelle, Mrs. Jacques Heath (Lily May Peel)</td>\n",
       "      <td>female</td>\n",
       "      <td>35.0</td>\n",
       "      <td>1</td>\n",
       "      <td>0</td>\n",
       "      <td>113803</td>\n",
       "      <td>53.1000</td>\n",
       "      <td>C123</td>\n",
       "      <td>S</td>\n",
       "    </tr>\n",
       "    <tr>\n",
       "      <th>4</th>\n",
       "      <td>5</td>\n",
       "      <td>0</td>\n",
       "      <td>3</td>\n",
       "      <td>Allen, Mr. William Henry</td>\n",
       "      <td>male</td>\n",
       "      <td>35.0</td>\n",
       "      <td>0</td>\n",
       "      <td>0</td>\n",
       "      <td>373450</td>\n",
       "      <td>8.0500</td>\n",
       "      <td>NaN</td>\n",
       "      <td>S</td>\n",
       "    </tr>\n",
       "    <tr>\n",
       "      <th>5</th>\n",
       "      <td>6</td>\n",
       "      <td>0</td>\n",
       "      <td>3</td>\n",
       "      <td>Moran, Mr. James</td>\n",
       "      <td>male</td>\n",
       "      <td>NaN</td>\n",
       "      <td>0</td>\n",
       "      <td>0</td>\n",
       "      <td>330877</td>\n",
       "      <td>8.4583</td>\n",
       "      <td>NaN</td>\n",
       "      <td>Q</td>\n",
       "    </tr>\n",
       "    <tr>\n",
       "      <th>6</th>\n",
       "      <td>7</td>\n",
       "      <td>0</td>\n",
       "      <td>1</td>\n",
       "      <td>McCarthy, Mr. Timothy J</td>\n",
       "      <td>male</td>\n",
       "      <td>54.0</td>\n",
       "      <td>0</td>\n",
       "      <td>0</td>\n",
       "      <td>17463</td>\n",
       "      <td>51.8625</td>\n",
       "      <td>E46</td>\n",
       "      <td>S</td>\n",
       "    </tr>\n",
       "    <tr>\n",
       "      <th>7</th>\n",
       "      <td>8</td>\n",
       "      <td>0</td>\n",
       "      <td>3</td>\n",
       "      <td>Palsson, Master. Gosta Leonard</td>\n",
       "      <td>male</td>\n",
       "      <td>2.0</td>\n",
       "      <td>3</td>\n",
       "      <td>1</td>\n",
       "      <td>349909</td>\n",
       "      <td>21.0750</td>\n",
       "      <td>NaN</td>\n",
       "      <td>S</td>\n",
       "    </tr>\n",
       "    <tr>\n",
       "      <th>8</th>\n",
       "      <td>9</td>\n",
       "      <td>1</td>\n",
       "      <td>3</td>\n",
       "      <td>Johnson, Mrs. Oscar W (Elisabeth Vilhelmina Berg)</td>\n",
       "      <td>female</td>\n",
       "      <td>27.0</td>\n",
       "      <td>0</td>\n",
       "      <td>2</td>\n",
       "      <td>347742</td>\n",
       "      <td>11.1333</td>\n",
       "      <td>NaN</td>\n",
       "      <td>S</td>\n",
       "    </tr>\n",
       "    <tr>\n",
       "      <th>9</th>\n",
       "      <td>10</td>\n",
       "      <td>1</td>\n",
       "      <td>2</td>\n",
       "      <td>Nasser, Mrs. Nicholas (Adele Achem)</td>\n",
       "      <td>female</td>\n",
       "      <td>14.0</td>\n",
       "      <td>1</td>\n",
       "      <td>0</td>\n",
       "      <td>237736</td>\n",
       "      <td>30.0708</td>\n",
       "      <td>NaN</td>\n",
       "      <td>C</td>\n",
       "    </tr>\n",
       "    <tr>\n",
       "      <th rowspan=\"10\" valign=\"top\">last 10</th>\n",
       "      <th>881</th>\n",
       "      <td>882</td>\n",
       "      <td>0</td>\n",
       "      <td>3</td>\n",
       "      <td>Markun, Mr. Johann</td>\n",
       "      <td>male</td>\n",
       "      <td>33.0</td>\n",
       "      <td>0</td>\n",
       "      <td>0</td>\n",
       "      <td>349257</td>\n",
       "      <td>7.8958</td>\n",
       "      <td>NaN</td>\n",
       "      <td>S</td>\n",
       "    </tr>\n",
       "    <tr>\n",
       "      <th>882</th>\n",
       "      <td>883</td>\n",
       "      <td>0</td>\n",
       "      <td>3</td>\n",
       "      <td>Dahlberg, Miss. Gerda Ulrika</td>\n",
       "      <td>female</td>\n",
       "      <td>22.0</td>\n",
       "      <td>0</td>\n",
       "      <td>0</td>\n",
       "      <td>7552</td>\n",
       "      <td>10.5167</td>\n",
       "      <td>NaN</td>\n",
       "      <td>S</td>\n",
       "    </tr>\n",
       "    <tr>\n",
       "      <th>883</th>\n",
       "      <td>884</td>\n",
       "      <td>0</td>\n",
       "      <td>2</td>\n",
       "      <td>Banfield, Mr. Frederick James</td>\n",
       "      <td>male</td>\n",
       "      <td>28.0</td>\n",
       "      <td>0</td>\n",
       "      <td>0</td>\n",
       "      <td>C.A./SOTON 34068</td>\n",
       "      <td>10.5000</td>\n",
       "      <td>NaN</td>\n",
       "      <td>S</td>\n",
       "    </tr>\n",
       "    <tr>\n",
       "      <th>884</th>\n",
       "      <td>885</td>\n",
       "      <td>0</td>\n",
       "      <td>3</td>\n",
       "      <td>Sutehall, Mr. Henry Jr</td>\n",
       "      <td>male</td>\n",
       "      <td>25.0</td>\n",
       "      <td>0</td>\n",
       "      <td>0</td>\n",
       "      <td>SOTON/OQ 392076</td>\n",
       "      <td>7.0500</td>\n",
       "      <td>NaN</td>\n",
       "      <td>S</td>\n",
       "    </tr>\n",
       "    <tr>\n",
       "      <th>885</th>\n",
       "      <td>886</td>\n",
       "      <td>0</td>\n",
       "      <td>3</td>\n",
       "      <td>Rice, Mrs. William (Margaret Norton)</td>\n",
       "      <td>female</td>\n",
       "      <td>39.0</td>\n",
       "      <td>0</td>\n",
       "      <td>5</td>\n",
       "      <td>382652</td>\n",
       "      <td>29.1250</td>\n",
       "      <td>NaN</td>\n",
       "      <td>Q</td>\n",
       "    </tr>\n",
       "    <tr>\n",
       "      <th>886</th>\n",
       "      <td>887</td>\n",
       "      <td>0</td>\n",
       "      <td>2</td>\n",
       "      <td>Montvila, Rev. Juozas</td>\n",
       "      <td>male</td>\n",
       "      <td>27.0</td>\n",
       "      <td>0</td>\n",
       "      <td>0</td>\n",
       "      <td>211536</td>\n",
       "      <td>13.0000</td>\n",
       "      <td>NaN</td>\n",
       "      <td>S</td>\n",
       "    </tr>\n",
       "    <tr>\n",
       "      <th>887</th>\n",
       "      <td>888</td>\n",
       "      <td>1</td>\n",
       "      <td>1</td>\n",
       "      <td>Graham, Miss. Margaret Edith</td>\n",
       "      <td>female</td>\n",
       "      <td>19.0</td>\n",
       "      <td>0</td>\n",
       "      <td>0</td>\n",
       "      <td>112053</td>\n",
       "      <td>30.0000</td>\n",
       "      <td>B42</td>\n",
       "      <td>S</td>\n",
       "    </tr>\n",
       "    <tr>\n",
       "      <th>888</th>\n",
       "      <td>889</td>\n",
       "      <td>0</td>\n",
       "      <td>3</td>\n",
       "      <td>Johnston, Miss. Catherine Helen \"Carrie\"</td>\n",
       "      <td>female</td>\n",
       "      <td>NaN</td>\n",
       "      <td>1</td>\n",
       "      <td>2</td>\n",
       "      <td>W./C. 6607</td>\n",
       "      <td>23.4500</td>\n",
       "      <td>NaN</td>\n",
       "      <td>S</td>\n",
       "    </tr>\n",
       "    <tr>\n",
       "      <th>889</th>\n",
       "      <td>890</td>\n",
       "      <td>1</td>\n",
       "      <td>1</td>\n",
       "      <td>Behr, Mr. Karl Howell</td>\n",
       "      <td>male</td>\n",
       "      <td>26.0</td>\n",
       "      <td>0</td>\n",
       "      <td>0</td>\n",
       "      <td>111369</td>\n",
       "      <td>30.0000</td>\n",
       "      <td>C148</td>\n",
       "      <td>C</td>\n",
       "    </tr>\n",
       "    <tr>\n",
       "      <th>890</th>\n",
       "      <td>891</td>\n",
       "      <td>0</td>\n",
       "      <td>3</td>\n",
       "      <td>Dooley, Mr. Patrick</td>\n",
       "      <td>male</td>\n",
       "      <td>32.0</td>\n",
       "      <td>0</td>\n",
       "      <td>0</td>\n",
       "      <td>370376</td>\n",
       "      <td>7.7500</td>\n",
       "      <td>NaN</td>\n",
       "      <td>Q</td>\n",
       "    </tr>\n",
       "  </tbody>\n",
       "</table>\n",
       "</div>"
      ],
      "text/plain": [
       "              PassengerId  Survived  Pclass  \\\n",
       "first 10 0              1         0       3   \n",
       "         1              2         1       1   \n",
       "         2              3         1       3   \n",
       "         3              4         1       1   \n",
       "         4              5         0       3   \n",
       "         5              6         0       3   \n",
       "         6              7         0       1   \n",
       "         7              8         0       3   \n",
       "         8              9         1       3   \n",
       "         9             10         1       2   \n",
       "last 10  881          882         0       3   \n",
       "         882          883         0       3   \n",
       "         883          884         0       2   \n",
       "         884          885         0       3   \n",
       "         885          886         0       3   \n",
       "         886          887         0       2   \n",
       "         887          888         1       1   \n",
       "         888          889         0       3   \n",
       "         889          890         1       1   \n",
       "         890          891         0       3   \n",
       "\n",
       "                                                           Name     Sex   Age  \\\n",
       "first 10 0                              Braund, Mr. Owen Harris    male  22.0   \n",
       "         1    Cumings, Mrs. John Bradley (Florence Briggs Th...  female  38.0   \n",
       "         2                               Heikkinen, Miss. Laina  female  26.0   \n",
       "         3         Futrelle, Mrs. Jacques Heath (Lily May Peel)  female  35.0   \n",
       "         4                             Allen, Mr. William Henry    male  35.0   \n",
       "         5                                     Moran, Mr. James    male   NaN   \n",
       "         6                              McCarthy, Mr. Timothy J    male  54.0   \n",
       "         7                       Palsson, Master. Gosta Leonard    male   2.0   \n",
       "         8    Johnson, Mrs. Oscar W (Elisabeth Vilhelmina Berg)  female  27.0   \n",
       "         9                  Nasser, Mrs. Nicholas (Adele Achem)  female  14.0   \n",
       "last 10  881                                 Markun, Mr. Johann    male  33.0   \n",
       "         882                       Dahlberg, Miss. Gerda Ulrika  female  22.0   \n",
       "         883                      Banfield, Mr. Frederick James    male  28.0   \n",
       "         884                             Sutehall, Mr. Henry Jr    male  25.0   \n",
       "         885               Rice, Mrs. William (Margaret Norton)  female  39.0   \n",
       "         886                              Montvila, Rev. Juozas    male  27.0   \n",
       "         887                       Graham, Miss. Margaret Edith  female  19.0   \n",
       "         888           Johnston, Miss. Catherine Helen \"Carrie\"  female   NaN   \n",
       "         889                              Behr, Mr. Karl Howell    male  26.0   \n",
       "         890                                Dooley, Mr. Patrick    male  32.0   \n",
       "\n",
       "              SibSp  Parch            Ticket     Fare Cabin Embarked  \n",
       "first 10 0        1      0         A/5 21171   7.2500   NaN        S  \n",
       "         1        1      0          PC 17599  71.2833   C85        C  \n",
       "         2        0      0  STON/O2. 3101282   7.9250   NaN        S  \n",
       "         3        1      0            113803  53.1000  C123        S  \n",
       "         4        0      0            373450   8.0500   NaN        S  \n",
       "         5        0      0            330877   8.4583   NaN        Q  \n",
       "         6        0      0             17463  51.8625   E46        S  \n",
       "         7        3      1            349909  21.0750   NaN        S  \n",
       "         8        0      2            347742  11.1333   NaN        S  \n",
       "         9        1      0            237736  30.0708   NaN        C  \n",
       "last 10  881      0      0            349257   7.8958   NaN        S  \n",
       "         882      0      0              7552  10.5167   NaN        S  \n",
       "         883      0      0  C.A./SOTON 34068  10.5000   NaN        S  \n",
       "         884      0      0   SOTON/OQ 392076   7.0500   NaN        S  \n",
       "         885      0      5            382652  29.1250   NaN        Q  \n",
       "         886      0      0            211536  13.0000   NaN        S  \n",
       "         887      0      0            112053  30.0000   B42        S  \n",
       "         888      1      2        W./C. 6607  23.4500   NaN        S  \n",
       "         889      0      0            111369  30.0000  C148        C  \n",
       "         890      0      0            370376   7.7500   NaN        Q  "
      ]
     },
     "execution_count": 15,
     "metadata": {},
     "output_type": "execute_result"
    }
   ],
   "source": [
    "###\n",
    "### Print first 10 and last 10 rows of the data\n",
    "### Write your code here\n",
    "###\n",
    "pd.concat([train.head(10), train.tail(10)], keys=[\"first 10\", \"last 10\"])"
   ]
  },
  {
   "cell_type": "markdown",
   "metadata": {},
   "source": [
    "#### Attributes in Data"
   ]
  },
  {
   "cell_type": "code",
   "execution_count": 16,
   "metadata": {},
   "outputs": [
    {
     "data": {
      "text/plain": [
       "Index(['PassengerId', 'Survived', 'Pclass', 'Name', 'Sex', 'Age', 'SibSp',\n",
       "       'Parch', 'Ticket', 'Fare', 'Cabin', 'Embarked'],\n",
       "      dtype='object')"
      ]
     },
     "execution_count": 16,
     "metadata": {},
     "output_type": "execute_result"
    }
   ],
   "source": [
    "###\n",
    "### Print all the attribute/column names\n",
    "### Write your code here\n",
    "###\n",
    "train.columns"
   ]
  },
  {
   "cell_type": "markdown",
   "metadata": {},
   "source": [
    "#### Data types of Attributes"
   ]
  },
  {
   "cell_type": "code",
   "execution_count": 20,
   "metadata": {},
   "outputs": [],
   "source": [
    "###\n",
    "### Print datatypes of all attributes\n",
    "### Separate Discrete and Continuous Attributes programmatically\n",
    "### Write your code here\n",
    "###\n",
    "train.dtypes\n",
    "continuous = train.select_dtypes(include=np.number)\n",
    "discrete = train.select_dtypes(exclude=np.number)"
   ]
  },
  {
   "cell_type": "code",
   "execution_count": 21,
   "metadata": {},
   "outputs": [
    {
     "data": {
      "text/html": [
       "<div>\n",
       "<style scoped>\n",
       "    .dataframe tbody tr th:only-of-type {\n",
       "        vertical-align: middle;\n",
       "    }\n",
       "\n",
       "    .dataframe tbody tr th {\n",
       "        vertical-align: top;\n",
       "    }\n",
       "\n",
       "    .dataframe thead th {\n",
       "        text-align: right;\n",
       "    }\n",
       "</style>\n",
       "<table border=\"1\" class=\"dataframe\">\n",
       "  <thead>\n",
       "    <tr style=\"text-align: right;\">\n",
       "      <th></th>\n",
       "      <th>PassengerId</th>\n",
       "      <th>Survived</th>\n",
       "      <th>Pclass</th>\n",
       "      <th>Age</th>\n",
       "      <th>SibSp</th>\n",
       "      <th>Parch</th>\n",
       "      <th>Fare</th>\n",
       "    </tr>\n",
       "  </thead>\n",
       "  <tbody>\n",
       "    <tr>\n",
       "      <th>0</th>\n",
       "      <td>1</td>\n",
       "      <td>0</td>\n",
       "      <td>3</td>\n",
       "      <td>22.0</td>\n",
       "      <td>1</td>\n",
       "      <td>0</td>\n",
       "      <td>7.2500</td>\n",
       "    </tr>\n",
       "    <tr>\n",
       "      <th>1</th>\n",
       "      <td>2</td>\n",
       "      <td>1</td>\n",
       "      <td>1</td>\n",
       "      <td>38.0</td>\n",
       "      <td>1</td>\n",
       "      <td>0</td>\n",
       "      <td>71.2833</td>\n",
       "    </tr>\n",
       "    <tr>\n",
       "      <th>2</th>\n",
       "      <td>3</td>\n",
       "      <td>1</td>\n",
       "      <td>3</td>\n",
       "      <td>26.0</td>\n",
       "      <td>0</td>\n",
       "      <td>0</td>\n",
       "      <td>7.9250</td>\n",
       "    </tr>\n",
       "    <tr>\n",
       "      <th>3</th>\n",
       "      <td>4</td>\n",
       "      <td>1</td>\n",
       "      <td>1</td>\n",
       "      <td>35.0</td>\n",
       "      <td>1</td>\n",
       "      <td>0</td>\n",
       "      <td>53.1000</td>\n",
       "    </tr>\n",
       "    <tr>\n",
       "      <th>4</th>\n",
       "      <td>5</td>\n",
       "      <td>0</td>\n",
       "      <td>3</td>\n",
       "      <td>35.0</td>\n",
       "      <td>0</td>\n",
       "      <td>0</td>\n",
       "      <td>8.0500</td>\n",
       "    </tr>\n",
       "    <tr>\n",
       "      <th>...</th>\n",
       "      <td>...</td>\n",
       "      <td>...</td>\n",
       "      <td>...</td>\n",
       "      <td>...</td>\n",
       "      <td>...</td>\n",
       "      <td>...</td>\n",
       "      <td>...</td>\n",
       "    </tr>\n",
       "    <tr>\n",
       "      <th>886</th>\n",
       "      <td>887</td>\n",
       "      <td>0</td>\n",
       "      <td>2</td>\n",
       "      <td>27.0</td>\n",
       "      <td>0</td>\n",
       "      <td>0</td>\n",
       "      <td>13.0000</td>\n",
       "    </tr>\n",
       "    <tr>\n",
       "      <th>887</th>\n",
       "      <td>888</td>\n",
       "      <td>1</td>\n",
       "      <td>1</td>\n",
       "      <td>19.0</td>\n",
       "      <td>0</td>\n",
       "      <td>0</td>\n",
       "      <td>30.0000</td>\n",
       "    </tr>\n",
       "    <tr>\n",
       "      <th>888</th>\n",
       "      <td>889</td>\n",
       "      <td>0</td>\n",
       "      <td>3</td>\n",
       "      <td>NaN</td>\n",
       "      <td>1</td>\n",
       "      <td>2</td>\n",
       "      <td>23.4500</td>\n",
       "    </tr>\n",
       "    <tr>\n",
       "      <th>889</th>\n",
       "      <td>890</td>\n",
       "      <td>1</td>\n",
       "      <td>1</td>\n",
       "      <td>26.0</td>\n",
       "      <td>0</td>\n",
       "      <td>0</td>\n",
       "      <td>30.0000</td>\n",
       "    </tr>\n",
       "    <tr>\n",
       "      <th>890</th>\n",
       "      <td>891</td>\n",
       "      <td>0</td>\n",
       "      <td>3</td>\n",
       "      <td>32.0</td>\n",
       "      <td>0</td>\n",
       "      <td>0</td>\n",
       "      <td>7.7500</td>\n",
       "    </tr>\n",
       "  </tbody>\n",
       "</table>\n",
       "<p>891 rows × 7 columns</p>\n",
       "</div>"
      ],
      "text/plain": [
       "     PassengerId  Survived  Pclass   Age  SibSp  Parch     Fare\n",
       "0              1         0       3  22.0      1      0   7.2500\n",
       "1              2         1       1  38.0      1      0  71.2833\n",
       "2              3         1       3  26.0      0      0   7.9250\n",
       "3              4         1       1  35.0      1      0  53.1000\n",
       "4              5         0       3  35.0      0      0   8.0500\n",
       "..           ...       ...     ...   ...    ...    ...      ...\n",
       "886          887         0       2  27.0      0      0  13.0000\n",
       "887          888         1       1  19.0      0      0  30.0000\n",
       "888          889         0       3   NaN      1      2  23.4500\n",
       "889          890         1       1  26.0      0      0  30.0000\n",
       "890          891         0       3  32.0      0      0   7.7500\n",
       "\n",
       "[891 rows x 7 columns]"
      ]
     },
     "execution_count": 21,
     "metadata": {},
     "output_type": "execute_result"
    }
   ],
   "source": [
    "#Continuous\n",
    "continuous"
   ]
  },
  {
   "cell_type": "code",
   "execution_count": 22,
   "metadata": {},
   "outputs": [
    {
     "data": {
      "text/html": [
       "<div>\n",
       "<style scoped>\n",
       "    .dataframe tbody tr th:only-of-type {\n",
       "        vertical-align: middle;\n",
       "    }\n",
       "\n",
       "    .dataframe tbody tr th {\n",
       "        vertical-align: top;\n",
       "    }\n",
       "\n",
       "    .dataframe thead th {\n",
       "        text-align: right;\n",
       "    }\n",
       "</style>\n",
       "<table border=\"1\" class=\"dataframe\">\n",
       "  <thead>\n",
       "    <tr style=\"text-align: right;\">\n",
       "      <th></th>\n",
       "      <th>Name</th>\n",
       "      <th>Sex</th>\n",
       "      <th>Ticket</th>\n",
       "      <th>Cabin</th>\n",
       "      <th>Embarked</th>\n",
       "    </tr>\n",
       "  </thead>\n",
       "  <tbody>\n",
       "    <tr>\n",
       "      <th>0</th>\n",
       "      <td>Braund, Mr. Owen Harris</td>\n",
       "      <td>male</td>\n",
       "      <td>A/5 21171</td>\n",
       "      <td>NaN</td>\n",
       "      <td>S</td>\n",
       "    </tr>\n",
       "    <tr>\n",
       "      <th>1</th>\n",
       "      <td>Cumings, Mrs. John Bradley (Florence Briggs Th...</td>\n",
       "      <td>female</td>\n",
       "      <td>PC 17599</td>\n",
       "      <td>C85</td>\n",
       "      <td>C</td>\n",
       "    </tr>\n",
       "    <tr>\n",
       "      <th>2</th>\n",
       "      <td>Heikkinen, Miss. Laina</td>\n",
       "      <td>female</td>\n",
       "      <td>STON/O2. 3101282</td>\n",
       "      <td>NaN</td>\n",
       "      <td>S</td>\n",
       "    </tr>\n",
       "    <tr>\n",
       "      <th>3</th>\n",
       "      <td>Futrelle, Mrs. Jacques Heath (Lily May Peel)</td>\n",
       "      <td>female</td>\n",
       "      <td>113803</td>\n",
       "      <td>C123</td>\n",
       "      <td>S</td>\n",
       "    </tr>\n",
       "    <tr>\n",
       "      <th>4</th>\n",
       "      <td>Allen, Mr. William Henry</td>\n",
       "      <td>male</td>\n",
       "      <td>373450</td>\n",
       "      <td>NaN</td>\n",
       "      <td>S</td>\n",
       "    </tr>\n",
       "    <tr>\n",
       "      <th>...</th>\n",
       "      <td>...</td>\n",
       "      <td>...</td>\n",
       "      <td>...</td>\n",
       "      <td>...</td>\n",
       "      <td>...</td>\n",
       "    </tr>\n",
       "    <tr>\n",
       "      <th>886</th>\n",
       "      <td>Montvila, Rev. Juozas</td>\n",
       "      <td>male</td>\n",
       "      <td>211536</td>\n",
       "      <td>NaN</td>\n",
       "      <td>S</td>\n",
       "    </tr>\n",
       "    <tr>\n",
       "      <th>887</th>\n",
       "      <td>Graham, Miss. Margaret Edith</td>\n",
       "      <td>female</td>\n",
       "      <td>112053</td>\n",
       "      <td>B42</td>\n",
       "      <td>S</td>\n",
       "    </tr>\n",
       "    <tr>\n",
       "      <th>888</th>\n",
       "      <td>Johnston, Miss. Catherine Helen \"Carrie\"</td>\n",
       "      <td>female</td>\n",
       "      <td>W./C. 6607</td>\n",
       "      <td>NaN</td>\n",
       "      <td>S</td>\n",
       "    </tr>\n",
       "    <tr>\n",
       "      <th>889</th>\n",
       "      <td>Behr, Mr. Karl Howell</td>\n",
       "      <td>male</td>\n",
       "      <td>111369</td>\n",
       "      <td>C148</td>\n",
       "      <td>C</td>\n",
       "    </tr>\n",
       "    <tr>\n",
       "      <th>890</th>\n",
       "      <td>Dooley, Mr. Patrick</td>\n",
       "      <td>male</td>\n",
       "      <td>370376</td>\n",
       "      <td>NaN</td>\n",
       "      <td>Q</td>\n",
       "    </tr>\n",
       "  </tbody>\n",
       "</table>\n",
       "<p>891 rows × 5 columns</p>\n",
       "</div>"
      ],
      "text/plain": [
       "                                                  Name     Sex  \\\n",
       "0                              Braund, Mr. Owen Harris    male   \n",
       "1    Cumings, Mrs. John Bradley (Florence Briggs Th...  female   \n",
       "2                               Heikkinen, Miss. Laina  female   \n",
       "3         Futrelle, Mrs. Jacques Heath (Lily May Peel)  female   \n",
       "4                             Allen, Mr. William Henry    male   \n",
       "..                                                 ...     ...   \n",
       "886                              Montvila, Rev. Juozas    male   \n",
       "887                       Graham, Miss. Margaret Edith  female   \n",
       "888           Johnston, Miss. Catherine Helen \"Carrie\"  female   \n",
       "889                              Behr, Mr. Karl Howell    male   \n",
       "890                                Dooley, Mr. Patrick    male   \n",
       "\n",
       "               Ticket Cabin Embarked  \n",
       "0           A/5 21171   NaN        S  \n",
       "1            PC 17599   C85        C  \n",
       "2    STON/O2. 3101282   NaN        S  \n",
       "3              113803  C123        S  \n",
       "4              373450   NaN        S  \n",
       "..                ...   ...      ...  \n",
       "886            211536   NaN        S  \n",
       "887            112053   B42        S  \n",
       "888        W./C. 6607   NaN        S  \n",
       "889            111369  C148        C  \n",
       "890            370376   NaN        Q  \n",
       "\n",
       "[891 rows x 5 columns]"
      ]
     },
     "execution_count": 22,
     "metadata": {},
     "output_type": "execute_result"
    }
   ],
   "source": [
    "#Discrete\n",
    "discrete"
   ]
  },
  {
   "cell_type": "markdown",
   "metadata": {},
   "source": [
    "#### Describe the Data"
   ]
  },
  {
   "cell_type": "code",
   "execution_count": null,
   "metadata": {},
   "outputs": [],
   "source": [
    "###\n",
    "### Print the description of data\n",
    "### You should know what it means to describe a continuous attribute\n",
    "### And what it means to describe a discrete attribute\n",
    "### Make separate blocks for each of these\n",
    "### Write your code here\n",
    "###"
   ]
  },
  {
   "cell_type": "code",
   "execution_count": null,
   "metadata": {},
   "outputs": [],
   "source": [
    "###\n",
    "### Write your code here\n",
    "###"
   ]
  },
  {
   "cell_type": "code",
   "execution_count": 25,
   "metadata": {},
   "outputs": [
    {
     "data": {
      "text/html": [
       "<div>\n",
       "<style scoped>\n",
       "    .dataframe tbody tr th:only-of-type {\n",
       "        vertical-align: middle;\n",
       "    }\n",
       "\n",
       "    .dataframe tbody tr th {\n",
       "        vertical-align: top;\n",
       "    }\n",
       "\n",
       "    .dataframe thead th {\n",
       "        text-align: right;\n",
       "    }\n",
       "</style>\n",
       "<table border=\"1\" class=\"dataframe\">\n",
       "  <thead>\n",
       "    <tr style=\"text-align: right;\">\n",
       "      <th></th>\n",
       "      <th>PassengerId</th>\n",
       "      <th>Survived</th>\n",
       "      <th>Pclass</th>\n",
       "      <th>Age</th>\n",
       "      <th>SibSp</th>\n",
       "      <th>Parch</th>\n",
       "      <th>Fare</th>\n",
       "    </tr>\n",
       "  </thead>\n",
       "  <tbody>\n",
       "    <tr>\n",
       "      <th>count</th>\n",
       "      <td>891.000000</td>\n",
       "      <td>891.000000</td>\n",
       "      <td>891.000000</td>\n",
       "      <td>714.000000</td>\n",
       "      <td>891.000000</td>\n",
       "      <td>891.000000</td>\n",
       "      <td>891.000000</td>\n",
       "    </tr>\n",
       "    <tr>\n",
       "      <th>mean</th>\n",
       "      <td>446.000000</td>\n",
       "      <td>0.383838</td>\n",
       "      <td>2.308642</td>\n",
       "      <td>29.699118</td>\n",
       "      <td>0.523008</td>\n",
       "      <td>0.381594</td>\n",
       "      <td>32.204208</td>\n",
       "    </tr>\n",
       "    <tr>\n",
       "      <th>std</th>\n",
       "      <td>257.353842</td>\n",
       "      <td>0.486592</td>\n",
       "      <td>0.836071</td>\n",
       "      <td>14.526497</td>\n",
       "      <td>1.102743</td>\n",
       "      <td>0.806057</td>\n",
       "      <td>49.693429</td>\n",
       "    </tr>\n",
       "    <tr>\n",
       "      <th>min</th>\n",
       "      <td>1.000000</td>\n",
       "      <td>0.000000</td>\n",
       "      <td>1.000000</td>\n",
       "      <td>0.420000</td>\n",
       "      <td>0.000000</td>\n",
       "      <td>0.000000</td>\n",
       "      <td>0.000000</td>\n",
       "    </tr>\n",
       "    <tr>\n",
       "      <th>25%</th>\n",
       "      <td>223.500000</td>\n",
       "      <td>0.000000</td>\n",
       "      <td>2.000000</td>\n",
       "      <td>20.125000</td>\n",
       "      <td>0.000000</td>\n",
       "      <td>0.000000</td>\n",
       "      <td>7.910400</td>\n",
       "    </tr>\n",
       "    <tr>\n",
       "      <th>50%</th>\n",
       "      <td>446.000000</td>\n",
       "      <td>0.000000</td>\n",
       "      <td>3.000000</td>\n",
       "      <td>28.000000</td>\n",
       "      <td>0.000000</td>\n",
       "      <td>0.000000</td>\n",
       "      <td>14.454200</td>\n",
       "    </tr>\n",
       "    <tr>\n",
       "      <th>75%</th>\n",
       "      <td>668.500000</td>\n",
       "      <td>1.000000</td>\n",
       "      <td>3.000000</td>\n",
       "      <td>38.000000</td>\n",
       "      <td>1.000000</td>\n",
       "      <td>0.000000</td>\n",
       "      <td>31.000000</td>\n",
       "    </tr>\n",
       "    <tr>\n",
       "      <th>max</th>\n",
       "      <td>891.000000</td>\n",
       "      <td>1.000000</td>\n",
       "      <td>3.000000</td>\n",
       "      <td>80.000000</td>\n",
       "      <td>8.000000</td>\n",
       "      <td>6.000000</td>\n",
       "      <td>512.329200</td>\n",
       "    </tr>\n",
       "  </tbody>\n",
       "</table>\n",
       "</div>"
      ],
      "text/plain": [
       "       PassengerId    Survived      Pclass         Age       SibSp  \\\n",
       "count   891.000000  891.000000  891.000000  714.000000  891.000000   \n",
       "mean    446.000000    0.383838    2.308642   29.699118    0.523008   \n",
       "std     257.353842    0.486592    0.836071   14.526497    1.102743   \n",
       "min       1.000000    0.000000    1.000000    0.420000    0.000000   \n",
       "25%     223.500000    0.000000    2.000000   20.125000    0.000000   \n",
       "50%     446.000000    0.000000    3.000000   28.000000    0.000000   \n",
       "75%     668.500000    1.000000    3.000000   38.000000    1.000000   \n",
       "max     891.000000    1.000000    3.000000   80.000000    8.000000   \n",
       "\n",
       "            Parch        Fare  \n",
       "count  891.000000  891.000000  \n",
       "mean     0.381594   32.204208  \n",
       "std      0.806057   49.693429  \n",
       "min      0.000000    0.000000  \n",
       "25%      0.000000    7.910400  \n",
       "50%      0.000000   14.454200  \n",
       "75%      0.000000   31.000000  \n",
       "max      6.000000  512.329200  "
      ]
     },
     "execution_count": 25,
     "metadata": {},
     "output_type": "execute_result"
    }
   ],
   "source": [
    "continuous.describe()"
   ]
  },
  {
   "cell_type": "code",
   "execution_count": 26,
   "metadata": {},
   "outputs": [
    {
     "data": {
      "text/html": [
       "<div>\n",
       "<style scoped>\n",
       "    .dataframe tbody tr th:only-of-type {\n",
       "        vertical-align: middle;\n",
       "    }\n",
       "\n",
       "    .dataframe tbody tr th {\n",
       "        vertical-align: top;\n",
       "    }\n",
       "\n",
       "    .dataframe thead th {\n",
       "        text-align: right;\n",
       "    }\n",
       "</style>\n",
       "<table border=\"1\" class=\"dataframe\">\n",
       "  <thead>\n",
       "    <tr style=\"text-align: right;\">\n",
       "      <th></th>\n",
       "      <th>Name</th>\n",
       "      <th>Sex</th>\n",
       "      <th>Ticket</th>\n",
       "      <th>Cabin</th>\n",
       "      <th>Embarked</th>\n",
       "    </tr>\n",
       "  </thead>\n",
       "  <tbody>\n",
       "    <tr>\n",
       "      <th>count</th>\n",
       "      <td>891</td>\n",
       "      <td>891</td>\n",
       "      <td>891</td>\n",
       "      <td>204</td>\n",
       "      <td>889</td>\n",
       "    </tr>\n",
       "    <tr>\n",
       "      <th>unique</th>\n",
       "      <td>891</td>\n",
       "      <td>2</td>\n",
       "      <td>681</td>\n",
       "      <td>147</td>\n",
       "      <td>3</td>\n",
       "    </tr>\n",
       "    <tr>\n",
       "      <th>top</th>\n",
       "      <td>Braund, Mr. Owen Harris</td>\n",
       "      <td>male</td>\n",
       "      <td>347082</td>\n",
       "      <td>B96 B98</td>\n",
       "      <td>S</td>\n",
       "    </tr>\n",
       "    <tr>\n",
       "      <th>freq</th>\n",
       "      <td>1</td>\n",
       "      <td>577</td>\n",
       "      <td>7</td>\n",
       "      <td>4</td>\n",
       "      <td>644</td>\n",
       "    </tr>\n",
       "  </tbody>\n",
       "</table>\n",
       "</div>"
      ],
      "text/plain": [
       "                           Name   Sex  Ticket    Cabin Embarked\n",
       "count                       891   891     891      204      889\n",
       "unique                      891     2     681      147        3\n",
       "top     Braund, Mr. Owen Harris  male  347082  B96 B98        S\n",
       "freq                          1   577       7        4      644"
      ]
     },
     "execution_count": 26,
     "metadata": {},
     "output_type": "execute_result"
    }
   ],
   "source": [
    "discrete.describe()"
   ]
  },
  {
   "cell_type": "markdown",
   "metadata": {},
   "source": [
    "#### Exploratory Data Analysis"
   ]
  },
  {
   "cell_type": "code",
   "execution_count": null,
   "metadata": {},
   "outputs": [],
   "source": [
    "###\n",
    "### For this section you should plot 2 graphs for each attribute\n",
    "### First graph should display the distribution of data in each attribute\n",
    "### Second graph should display how the attribute changes with respect to target class\n",
    "###\n",
    "### Take advantage of matplotlib and any other plotting library\n",
    "### Remember your graph should be meaningful and properly labeled\n",
    "### You should understand that when the type of variable changes - it's representation also changes\n",
    "###\n",
    "### In some of the attributes you would discover that plotting them is not possible\n",
    "### Could you tell why plotting these attributes is not possible?\n",
    "### Is there any way to resolve this issue?\n",
    "###\n",
    "### Please remember not to make any changes in the original dataframe\n",
    "###\n",
    "### Write your code here\n",
    "###"
   ]
  },
  {
   "cell_type": "markdown",
   "metadata": {},
   "source": [
    "## Now for Categorical DATA"
   ]
  },
  {
   "cell_type": "code",
   "execution_count": 27,
   "metadata": {},
   "outputs": [
    {
     "data": {
      "text/plain": [
       "Index(['PassengerId', 'Survived', 'Pclass', 'Name', 'Sex', 'Age', 'SibSp',\n",
       "       'Parch', 'Ticket', 'Fare', 'Cabin', 'Embarked'],\n",
       "      dtype='object')"
      ]
     },
     "execution_count": 27,
     "metadata": {},
     "output_type": "execute_result"
    }
   ],
   "source": [
    "train.columns"
   ]
  },
  {
   "cell_type": "code",
   "execution_count": 54,
   "metadata": {},
   "outputs": [
    {
     "data": {
      "image/png": "[encoded data removed]",
      "text/plain": [
       "<Figure size 640x480 with 1 Axes>"
      ]
     },
     "metadata": {},
     "output_type": "display_data"
    }
   ],
   "source": [
    "Pclass_counts = train['Pclass'].value_counts()\n",
    "\n",
    "# Plot the counts as a bar chart\n",
    "Pclass_counts.plot(kind='bar')\n",
    "\n",
    "# Add labels and title\n",
    "plt.xlabel('Pclass')\n",
    "plt.ylabel('Count')\n",
    "plt.title('Bar chart of Pclass')\n",
    "\n",
    "# Display the plot\n",
    "plt.show()"
   ]
  },
  {
   "cell_type": "code",
   "execution_count": 46,
   "metadata": {},
   "outputs": [
    {
     "data": {
      "text/plain": [
       "3    491\n",
       "1    216\n",
       "2    184\n",
       "Name: Pclass, dtype: int64"
      ]
     },
     "execution_count": 46,
     "metadata": {},
     "output_type": "execute_result"
    }
   ],
   "source": [
    "Pclass_counts"
   ]
  },
  {
   "cell_type": "code",
   "execution_count": 55,
   "metadata": {},
   "outputs": [
    {
     "data": {
      "image/png": "[encoded data removed]",
      "text/plain": [
       "<Figure size 640x480 with 1 Axes>"
      ]
     },
     "metadata": {},
     "output_type": "display_data"
    }
   ],
   "source": [
    "sex_counts = train['Sex'].value_counts()\n",
    "\n",
    "# Plot the counts as a bar chart\n",
    "sex_counts.plot(kind='bar')\n",
    "\n",
    "# Add labels and title\n",
    "plt.xlabel('sex')\n",
    "plt.ylabel('Count')\n",
    "plt.title('Bar chart of sex')\n",
    "\n",
    "# Display the plot\n",
    "plt.show()"
   ]
  },
  {
   "cell_type": "code",
   "execution_count": 48,
   "metadata": {},
   "outputs": [
    {
     "data": {
      "text/plain": [
       "male      577\n",
       "female    314\n",
       "Name: Sex, dtype: int64"
      ]
     },
     "execution_count": 48,
     "metadata": {},
     "output_type": "execute_result"
    }
   ],
   "source": [
    "sex_counts"
   ]
  },
  {
   "cell_type": "code",
   "execution_count": 61,
   "metadata": {},
   "outputs": [
    {
     "data": {
      "image/png": "[encoded data removed]",
      "text/plain": [
       "<Figure size 640x480 with 1 Axes>"
      ]
     },
     "metadata": {},
     "output_type": "display_data"
    }
   ],
   "source": [
    "sns.boxplot(x='Sex', y='Age', data=train)\n",
    "\n",
    "# Add labels and title\n",
    "plt.xlabel('sex')\n",
    "plt.ylabel('age')\n",
    "plt.title('Age Box Plot grouped by Sex')\n",
    "\n",
    "# Display the plot\n",
    "plt.show()"
   ]
  },
  {
   "cell_type": "code",
   "execution_count": 63,
   "metadata": {},
   "outputs": [
    {
     "data": {
      "image/png": "[encoded data removed]",
      "text/plain": [
       "<Figure size 640x480 with 1 Axes>"
      ]
     },
     "metadata": {},
     "output_type": "display_data"
    }
   ],
   "source": [
    "Sibsp_counts = train['SibSp'].value_counts()\n",
    "\n",
    "# Plot the counts as a bar chart\n",
    "Sibsp_counts.plot(kind='bar')\n",
    "\n",
    "# Add labels and title\n",
    "plt.xlabel('Sibsp')\n",
    "plt.ylabel('Count')\n",
    "plt.title('Bar chart of Sibsp')\n",
    "\n",
    "# Display the plot\n",
    "plt.show()"
   ]
  },
  {
   "cell_type": "code",
   "execution_count": 64,
   "metadata": {},
   "outputs": [
    {
     "data": {
      "text/plain": [
       "0    608\n",
       "1    209\n",
       "2     28\n",
       "4     18\n",
       "3     16\n",
       "8      7\n",
       "5      5\n",
       "Name: SibSp, dtype: int64"
      ]
     },
     "execution_count": 64,
     "metadata": {},
     "output_type": "execute_result"
    }
   ],
   "source": [
    "Sibsp_counts"
   ]
  },
  {
   "cell_type": "code",
   "execution_count": 66,
   "metadata": {},
   "outputs": [
    {
     "data": {
      "image/png": "[encoded data removed]",
      "text/plain": [
       "<Figure size 640x480 with 1 Axes>"
      ]
     },
     "metadata": {},
     "output_type": "display_data"
    }
   ],
   "source": [
    "Parch_counts = train['Parch'].value_counts()\n",
    "\n",
    "# Plot the counts as a bar chart\n",
    "Parch_counts.plot(kind='bar')\n",
    "\n",
    "# Add labels and title\n",
    "plt.xlabel('Parch')\n",
    "plt.ylabel('Count')\n",
    "plt.title('Bar chart of Parch')\n",
    "\n",
    "# Display the plot\n",
    "plt.show()"
   ]
  },
  {
   "cell_type": "code",
   "execution_count": 67,
   "metadata": {},
   "outputs": [
    {
     "data": {
      "text/plain": [
       "0    678\n",
       "1    118\n",
       "2     80\n",
       "5      5\n",
       "3      5\n",
       "4      4\n",
       "6      1\n",
       "Name: Parch, dtype: int64"
      ]
     },
     "execution_count": 67,
     "metadata": {},
     "output_type": "execute_result"
    }
   ],
   "source": [
    "Parch_counts"
   ]
  },
  {
   "cell_type": "code",
   "execution_count": 72,
   "metadata": {},
   "outputs": [
    {
     "data": {
      "image/png": "[encoded data removed]",
      "text/plain": [
       "<Figure size 640x480 with 1 Axes>"
      ]
     },
     "metadata": {},
     "output_type": "display_data"
    }
   ],
   "source": [
    "Embarked_counts = train['Embarked'].value_counts()\n",
    "\n",
    "# Plot the counts as a bar chart\n",
    "Embarked_counts.plot(kind='bar')\n",
    "\n",
    "# Add labels and title\n",
    "plt.xlabel('Embarked')\n",
    "plt.ylabel('Count')\n",
    "plt.title('Bar chart of Embarked')\n",
    "\n",
    "# Display the plot\n",
    "plt.show()"
   ]
  },
  {
   "cell_type": "code",
   "execution_count": 73,
   "metadata": {},
   "outputs": [
    {
     "data": {
      "text/plain": [
       "S    644\n",
       "C    168\n",
       "Q     77\n",
       "Name: Embarked, dtype: int64"
      ]
     },
     "execution_count": 73,
     "metadata": {},
     "output_type": "execute_result"
    }
   ],
   "source": [
    "Embarked_counts"
   ]
  },
  {
   "cell_type": "code",
   "execution_count": null,
   "metadata": {},
   "outputs": [],
   "source": [
    "# Number of Males greater then Female"
   ]
  },
  {
   "cell_type": "markdown",
   "metadata": {},
   "source": [
    "## Graph With respect to target class"
   ]
  },
  {
   "cell_type": "code",
   "execution_count": 77,
   "metadata": {},
   "outputs": [
    {
     "data": {
      "image/png": "[encoded data removed]",
      "text/plain": [
       "<Figure size 640x480 with 1 Axes>"
      ]
     },
     "metadata": {},
     "output_type": "display_data"
    }
   ],
   "source": [
    "sns.countplot(x='Pclass', hue='Survived', data=train)\n",
    "\n",
    "# Add labels and title\n",
    "plt.xlabel('pclass')\n",
    "plt.ylabel('Count')\n",
    "plt.title('Bar Chart of pclass grouped by survived')\n",
    "\n",
    "# Display the plot\n",
    "plt.show()"
   ]
  },
  {
   "cell_type": "code",
   "execution_count": 79,
   "metadata": {},
   "outputs": [
    {
     "data": {
      "image/png": "[encoded data removed]",
      "text/plain": [
       "<Figure size 640x480 with 1 Axes>"
      ]
     },
     "metadata": {},
     "output_type": "display_data"
    }
   ],
   "source": [
    "sns.countplot(x='Sex', hue='Survived', data=train)\n",
    "\n",
    "# Add labels and title\n",
    "plt.xlabel('Sex')\n",
    "plt.ylabel('Count')\n",
    "plt.title('Bar Chart of Sex grouped by survived')\n",
    "\n",
    "# Display the plot\n",
    "plt.show()"
   ]
  },
  {
   "cell_type": "code",
   "execution_count": 82,
   "metadata": {},
   "outputs": [
    {
     "data": {
      "image/png": "[encoded data removed]",
      "text/plain": [
       "<Figure size 640x480 with 1 Axes>"
      ]
     },
     "metadata": {},
     "output_type": "display_data"
    }
   ],
   "source": [
    "train.groupby('Survived')['Age'].plot(kind='hist', alpha=0.5, bins=10)\n",
    "\n",
    "# Add labels and title\n",
    "plt.xlabel('Age')\n",
    "plt.ylabel('Frequency')\n",
    "plt.title('Age Histogram grouped by Survived')\n",
    "plt.legend(title='Survived')\n",
    "\n",
    "# Display the plot\n",
    "plt.show()"
   ]
  },
  {
   "cell_type": "code",
   "execution_count": 86,
   "metadata": {},
   "outputs": [
    {
     "data": {
      "image/png": "[encoded data removed]",
      "text/plain": [
       "<Figure size 640x480 with 1 Axes>"
      ]
     },
     "metadata": {},
     "output_type": "display_data"
    }
   ],
   "source": [
    "sns.countplot(x='SibSp', hue='Survived', data=train)\n",
    "\n",
    "# Add labels and title\n",
    "plt.xlabel('sibsp')\n",
    "plt.ylabel('Count')\n",
    "plt.title('Bar Chart of sibps grouped by survived')\n",
    "\n",
    "# Display the plot\n",
    "plt.show()"
   ]
  },
  {
   "cell_type": "code",
   "execution_count": 87,
   "metadata": {},
   "outputs": [
    {
     "data": {
      "image/png": "[encoded data removed]",
      "text/plain": [
       "<Figure size 640x480 with 1 Axes>"
      ]
     },
     "metadata": {},
     "output_type": "display_data"
    }
   ],
   "source": [
    "sns.countplot(x='Parch', hue='Survived', data=train)\n",
    "\n",
    "# Add labels and title\n",
    "plt.xlabel('parch')\n",
    "plt.ylabel('Count')\n",
    "plt.title('Bar Chart of parch grouped by survived')\n",
    "\n",
    "# Display the plot\n",
    "plt.show()"
   ]
  },
  {
   "cell_type": "code",
   "execution_count": 88,
   "metadata": {},
   "outputs": [
    {
     "data": {
      "image/png": "[encoded data removed]",
      "text/plain": [
       "<Figure size 640x480 with 1 Axes>"
      ]
     },
     "metadata": {},
     "output_type": "display_data"
    }
   ],
   "source": [
    "sns.countplot(x='Embarked', hue='Survived', data=train)\n",
    "\n",
    "# Add labels and title\n",
    "plt.xlabel('Embarked')\n",
    "plt.ylabel('Count')\n",
    "plt.title('Bar Chart of Embarked grouped by survived')\n",
    "\n",
    "# Display the plot\n",
    "plt.show()"
   ]
  },
  {
   "cell_type": "markdown",
   "metadata": {},
   "source": [
    "<h3> Great! Let's Keep Going </h3>\n",
    "* I hope now you have a good understanding of data.\n",
    "* Let's move to the next phase of data science"
   ]
  },
  {
   "cell_type": "markdown",
   "metadata": {},
   "source": [
    "### Pre-processing"
   ]
  },
  {
   "cell_type": "code",
   "execution_count": 89,
   "metadata": {},
   "outputs": [
    {
     "data": {
      "text/plain": [
       "(891, 12)"
      ]
     },
     "execution_count": 89,
     "metadata": {},
     "output_type": "execute_result"
    }
   ],
   "source": [
    "###\n",
    "### Check for duplicate rows. If found handle them.\n",
    "### Write your code here\n",
    "### There are no duplicates as we can see we havw unique names equal to total number of rows in data further we can use .drop_dplicates to confirm\n",
    "train.shape"
   ]
  },
  {
   "cell_type": "code",
   "execution_count": 90,
   "metadata": {},
   "outputs": [
    {
     "data": {
      "text/plain": [
       "(891, 12)"
      ]
     },
     "execution_count": 90,
     "metadata": {},
     "output_type": "execute_result"
    }
   ],
   "source": [
    "train.drop_duplicates()\n",
    "train.shape"
   ]
  },
  {
   "cell_type": "code",
   "execution_count": 99,
   "metadata": {},
   "outputs": [
    {
     "name": "stdout",
     "output_type": "stream",
     "text": [
      "<class 'pandas.core.frame.DataFrame'>\n",
      "RangeIndex: 891 entries, 0 to 890\n",
      "Data columns (total 12 columns):\n",
      " #   Column       Non-Null Count  Dtype  \n",
      "---  ------       --------------  -----  \n",
      " 0   PassengerId  891 non-null    int64  \n",
      " 1   Survived     891 non-null    int64  \n",
      " 2   Pclass       891 non-null    int64  \n",
      " 3   Name         891 non-null    object \n",
      " 4   Sex          891 non-null    object \n",
      " 5   Age          891 non-null    float64\n",
      " 6   SibSp        891 non-null    int64  \n",
      " 7   Parch        891 non-null    int64  \n",
      " 8   Ticket       891 non-null    object \n",
      " 9   Fare         891 non-null    float64\n",
      " 10  Cabin        204 non-null    object \n",
      " 11  Embarked     891 non-null    object \n",
      "dtypes: float64(2), int64(5), object(5)\n",
      "memory usage: 83.7+ KB\n"
     ]
    }
   ],
   "source": [
    "###\n",
    "### Check for missing values. If found handle them in the best possible manner\n",
    "### Write your code here\n",
    "###\n",
    "train.info()"
   ]
  },
  {
   "cell_type": "code",
   "execution_count": 98,
   "metadata": {},
   "outputs": [],
   "source": [
    "train['Age'].fillna(train['Age'].mean(), inplace=True)\n",
    "train['Embarked'].fillna(train['Embarked'].mode()[0], inplace=True)"
   ]
  },
  {
   "cell_type": "code",
   "execution_count": 105,
   "metadata": {},
   "outputs": [
    {
     "name": "stdout",
     "output_type": "stream",
     "text": [
      "skewness value of Fare:  1.9111756171418282\n"
     ]
    }
   ],
   "source": [
    "###\n",
    "### Check for outliers. If found handle them in the best possible manner\n",
    "### Write your code here\n",
    "###\n",
    "# We have two countineous Variable which may have Outliers . And its mean and std\n",
    "# There are myltiple ways to find and handle outliers even thugh we have seen some outliers in age visulization but bellow it looks fine\n",
    "#print('skewness value of Age: ',train['Age'].skew())\n",
    "#print('skewness value of Fare: ',train['Fare'].skew())\n",
    "#print('skewness value of Pclass: ',train['Pclass'].skew())\n",
    "#print('skewness value of SibSp: ',train['SibSp'].skew())\n",
    "#print('skewness value of Parch: ',train['Parch'].skew())\n",
    "\n",
    "\n",
    "median = train['Fare'].median()\n",
    "\n",
    "# Compute the min and max quantile values for the 'Fare' column\n",
    "min_quantile = train['Fare'].quantile(0.05)\n",
    "max_quantile = train['Fare'].quantile(0.95)\n",
    "\n",
    "# Replace any value in the 'Fare' column that is less than the min quantile or greater than the max quantile with the mean\n",
    "train['Fare'] = train['Fare'].apply(lambda x: median if x < min_quantile or x > max_quantile else x)"
   ]
  },
  {
   "cell_type": "code",
   "execution_count": null,
   "metadata": {},
   "outputs": [],
   "source": [
    "###\n",
    "### Check for any other data quality issues\n",
    "### Report these issues and also resolve them\n",
    "### Write your code here\n",
    "###"
   ]
  },
  {
   "cell_type": "markdown",
   "metadata": {},
   "source": [
    "#### Drop Irrelevant Attributes\n",
    "\n",
    "In your initial analysis, you must have noticed that there were some attributes that did not play any role in prediction. Therefore, we would remove these attributes."
   ]
  },
  {
   "cell_type": "markdown",
   "metadata": {},
   "source": [
    "#### Current Data"
   ]
  },
  {
   "cell_type": "markdown",
   "metadata": {},
   "source": [
    "We just said before that we would remove all irrelevant attributes.<br>\n",
    "* **Are 'Name' and 'Cabin' not irrelevant attribute? Take a minute and think about it.**\n",
    "<img src = \"img/ConfusedEmoji.jpg\" >"
   ]
  },
  {
   "cell_type": "markdown",
   "metadata": {},
   "source": [
    "### Feature Engineering\n",
    "\n",
    "Yes 'Name' and 'Cabin' seems to be irrelevant but we are not going to remove them yet. There is no need to be confused or surprised, as we are going to introduce a new concept called <font color='blue'>Feature Engineering.</font>\n",
    "\n",
    "**Feature engineering** is the process of transforming raw data into features that better represent the underlying problem to the predictive models, resulting in improved model accuracy on unseen data.\n",
    "\n",
    "**What do experts say about Feature Engineering?**\n",
    "\n",
    "* *feature engineering is another topic which doesn’t seem to merit any review papers or books, or even chapters in books, but it is absolutely vital to ML success. […] Much of the success of machine learning is actually success in engineering features that a learner can understand.* \n",
    "\n",
    "— Scott Locklin, in “Neglected machine learning ideas”\n",
    "\n",
    "* *Actually the success of all Machine Learning algorithms depends on how you present the data.*\n",
    "\n",
    "— Mohammad Pezeshki, answer to “What are some general tips on feature selection and engineering that every data scientist should know?”\n",
    "\n",
    "* *The algorithms we used are very standard for Kagglers. […]  We spent most of our efforts in feature engineering.*\n",
    "\n",
    "— Xavier Conort, on “Q&A with Xavier Conort” on winning the Flight Quest challenge on Kaggle\n",
    "\n",
    "* *“At the end of the day, some machine learning projects succeed and some fail. What makes the difference? Easily the most important factor is the features used.”*\n",
    "\n",
    "— Prof. Pedro Domingos\n",
    "\n",
    "**But what really is Feature Engineering?**\n",
    "\n",
    "I believe that the best way to understand something new is simply by doing it. <br>For further readings you can see references or find some very good material online.\n",
    "\n",
    "<img src='img/the-3-secrets-of-highly-successful-graduates-78-638.jpg'>"
   ]
  },
  {
   "cell_type": "markdown",
   "metadata": {},
   "source": [
    "#### Attribute = Name"
   ]
  },
  {
   "cell_type": "code",
   "execution_count": 125,
   "metadata": {},
   "outputs": [
    {
     "data": {
      "text/plain": [
       "0                                Braund, Mr. Owen Harris\n",
       "1      Cumings, Mrs. John Bradley (Florence Briggs Th...\n",
       "2                                 Heikkinen, Miss. Laina\n",
       "3           Futrelle, Mrs. Jacques Heath (Lily May Peel)\n",
       "4                               Allen, Mr. William Henry\n",
       "                             ...                        \n",
       "886                                Montvila, Rev. Juozas\n",
       "887                         Graham, Miss. Margaret Edith\n",
       "888             Johnston, Miss. Catherine Helen \"Carrie\"\n",
       "889                                Behr, Mr. Karl Howell\n",
       "890                                  Dooley, Mr. Patrick\n",
       "Name: Name, Length: 891, dtype: object"
      ]
     },
     "execution_count": 125,
     "metadata": {},
     "output_type": "execute_result"
    }
   ],
   "source": [
    "###\n",
    "### Print all names in column 'Name'\n",
    "### Write your code here\n",
    "###\n",
    "train['Name']#[0][train['Name'][0].index(',')+2:train['Name'][0].index('.')+1]"
   ]
  },
  {
   "cell_type": "code",
   "execution_count": 135,
   "metadata": {},
   "outputs": [
    {
     "name": "stdout",
     "output_type": "stream",
     "text": [
      "<class 'pandas.core.frame.DataFrame'>\n",
      "RangeIndex: 891 entries, 0 to 890\n",
      "Data columns (total 14 columns):\n",
      " #   Column       Non-Null Count  Dtype  \n",
      "---  ------       --------------  -----  \n",
      " 0   PassengerId  891 non-null    int64  \n",
      " 1   Survived     891 non-null    int64  \n",
      " 2   Pclass       891 non-null    int64  \n",
      " 3   Name         891 non-null    object \n",
      " 4   Sex          891 non-null    object \n",
      " 5   Age          891 non-null    float64\n",
      " 6   SibSp        891 non-null    int64  \n",
      " 7   Parch        891 non-null    int64  \n",
      " 8   Ticket       891 non-null    object \n",
      " 9   Fare         891 non-null    float64\n",
      " 10  Cabin        204 non-null    object \n",
      " 11  Embarked     891 non-null    object \n",
      " 12  title        891 non-null    object \n",
      " 13  Title        891 non-null    object \n",
      "dtypes: float64(2), int64(5), object(7)\n",
      "memory usage: 97.6+ KB\n"
     ]
    }
   ],
   "source": [
    "###\n",
    "### With every name of passenger you would find an extra title i.e Mr., Mrs., Miss. and e.t.c.\n",
    "### Go ahead and take a deeper look at the name of passengers.\n",
    "###\n",
    "### I suspect that this title might be informative\n",
    "### Create a new column with name 'title' and store the title of each passenger\n",
    "### You might have to write a regular expression for extracting title from names.\n",
    "###\n",
    "### Write your code here\n",
    "###\n",
    "\n",
    "train.loc[train[\"Name\"].str.contains(\"Mr.\"), \"Title\"] = \"Mr\"\n",
    "train.loc[train[\"Name\"].str.contains(\"Miss.\"), \"Title\"] = \"Miss\"\n",
    "train.loc[train[\"Name\"].str.contains(\"Mrs.\"), \"Title\"] = \"Mrs\"\n",
    "train.loc[~(train[\"Name\"].str.contains(\"Mr.\") | train[\"Name\"].str.contains(\"Miss.\") | train[\"Name\"].str.contains(\"Mrs.\")), \"Title\"] = \"Rare\"\n",
    "train.info()"
   ]
  },
  {
   "cell_type": "code",
   "execution_count": 143,
   "metadata": {},
   "outputs": [
    {
     "data": {
      "image/png": "[encoded data removed]",
      "text/plain": [
       "<Figure size 640x480 with 1 Axes>"
      ]
     },
     "metadata": {},
     "output_type": "display_data"
    }
   ],
   "source": [
    "###\n",
    "### Some of the titles might be very rare i.e only 1 or 2 passengers\n",
    "### Group all such variables into one category 'Rare' and print all the unique entries in the column 'Title'\n",
    "### Now the title attribute would have categories like Mr, Miss, Rare\n",
    "###\n",
    "### Write your code here\n",
    "###\n",
    "\n",
    "sns.countplot(x='Title', hue='Survived', data=train)\n",
    "\n",
    "# Add labels and title\n",
    "plt.xlabel('Title')\n",
    "plt.ylabel('Count')\n",
    "plt.title('Bar Chart of Title grouped by survived')\n",
    "\n",
    "# Display the plot\n",
    "plt.show()"
   ]
  },
  {
   "cell_type": "code",
   "execution_count": 144,
   "metadata": {},
   "outputs": [
    {
     "data": {
      "text/plain": [
       "Mr      518\n",
       "Miss    180\n",
       "Mrs     129\n",
       "Rare     64\n",
       "Name: Title, dtype: int64"
      ]
     },
     "execution_count": 144,
     "metadata": {},
     "output_type": "execute_result"
    }
   ],
   "source": [
    "train['Title'].value_counts()"
   ]
  },
  {
   "cell_type": "code",
   "execution_count": 148,
   "metadata": {},
   "outputs": [
    {
     "data": {
      "text/html": [
       "<div>\n",
       "<style scoped>\n",
       "    .dataframe tbody tr th:only-of-type {\n",
       "        vertical-align: middle;\n",
       "    }\n",
       "\n",
       "    .dataframe tbody tr th {\n",
       "        vertical-align: top;\n",
       "    }\n",
       "\n",
       "    .dataframe thead th {\n",
       "        text-align: right;\n",
       "    }\n",
       "</style>\n",
       "<table border=\"1\" class=\"dataframe\">\n",
       "  <thead>\n",
       "    <tr style=\"text-align: right;\">\n",
       "      <th></th>\n",
       "      <th>PassengerId</th>\n",
       "      <th>Survived</th>\n",
       "      <th>Pclass</th>\n",
       "      <th>Sex</th>\n",
       "      <th>Age</th>\n",
       "      <th>SibSp</th>\n",
       "      <th>Parch</th>\n",
       "      <th>Ticket</th>\n",
       "      <th>Fare</th>\n",
       "      <th>Cabin</th>\n",
       "      <th>Embarked</th>\n",
       "      <th>Title</th>\n",
       "    </tr>\n",
       "  </thead>\n",
       "  <tbody>\n",
       "    <tr>\n",
       "      <th>0</th>\n",
       "      <td>1</td>\n",
       "      <td>0</td>\n",
       "      <td>3</td>\n",
       "      <td>male</td>\n",
       "      <td>22.000000</td>\n",
       "      <td>1</td>\n",
       "      <td>0</td>\n",
       "      <td>A/5 21171</td>\n",
       "      <td>14.4542</td>\n",
       "      <td>NaN</td>\n",
       "      <td>S</td>\n",
       "      <td>Mr</td>\n",
       "    </tr>\n",
       "    <tr>\n",
       "      <th>1</th>\n",
       "      <td>2</td>\n",
       "      <td>1</td>\n",
       "      <td>1</td>\n",
       "      <td>female</td>\n",
       "      <td>38.000000</td>\n",
       "      <td>1</td>\n",
       "      <td>0</td>\n",
       "      <td>PC 17599</td>\n",
       "      <td>71.2833</td>\n",
       "      <td>C85</td>\n",
       "      <td>C</td>\n",
       "      <td>Mrs</td>\n",
       "    </tr>\n",
       "    <tr>\n",
       "      <th>2</th>\n",
       "      <td>3</td>\n",
       "      <td>1</td>\n",
       "      <td>3</td>\n",
       "      <td>female</td>\n",
       "      <td>26.000000</td>\n",
       "      <td>0</td>\n",
       "      <td>0</td>\n",
       "      <td>STON/O2. 3101282</td>\n",
       "      <td>7.9250</td>\n",
       "      <td>NaN</td>\n",
       "      <td>S</td>\n",
       "      <td>Miss</td>\n",
       "    </tr>\n",
       "    <tr>\n",
       "      <th>3</th>\n",
       "      <td>4</td>\n",
       "      <td>1</td>\n",
       "      <td>1</td>\n",
       "      <td>female</td>\n",
       "      <td>35.000000</td>\n",
       "      <td>1</td>\n",
       "      <td>0</td>\n",
       "      <td>113803</td>\n",
       "      <td>53.1000</td>\n",
       "      <td>C123</td>\n",
       "      <td>S</td>\n",
       "      <td>Mrs</td>\n",
       "    </tr>\n",
       "    <tr>\n",
       "      <th>4</th>\n",
       "      <td>5</td>\n",
       "      <td>0</td>\n",
       "      <td>3</td>\n",
       "      <td>male</td>\n",
       "      <td>35.000000</td>\n",
       "      <td>0</td>\n",
       "      <td>0</td>\n",
       "      <td>373450</td>\n",
       "      <td>8.0500</td>\n",
       "      <td>NaN</td>\n",
       "      <td>S</td>\n",
       "      <td>Mr</td>\n",
       "    </tr>\n",
       "    <tr>\n",
       "      <th>...</th>\n",
       "      <td>...</td>\n",
       "      <td>...</td>\n",
       "      <td>...</td>\n",
       "      <td>...</td>\n",
       "      <td>...</td>\n",
       "      <td>...</td>\n",
       "      <td>...</td>\n",
       "      <td>...</td>\n",
       "      <td>...</td>\n",
       "      <td>...</td>\n",
       "      <td>...</td>\n",
       "      <td>...</td>\n",
       "    </tr>\n",
       "    <tr>\n",
       "      <th>886</th>\n",
       "      <td>887</td>\n",
       "      <td>0</td>\n",
       "      <td>2</td>\n",
       "      <td>male</td>\n",
       "      <td>27.000000</td>\n",
       "      <td>0</td>\n",
       "      <td>0</td>\n",
       "      <td>211536</td>\n",
       "      <td>13.0000</td>\n",
       "      <td>NaN</td>\n",
       "      <td>S</td>\n",
       "      <td>Rare</td>\n",
       "    </tr>\n",
       "    <tr>\n",
       "      <th>887</th>\n",
       "      <td>888</td>\n",
       "      <td>1</td>\n",
       "      <td>1</td>\n",
       "      <td>female</td>\n",
       "      <td>19.000000</td>\n",
       "      <td>0</td>\n",
       "      <td>0</td>\n",
       "      <td>112053</td>\n",
       "      <td>30.0000</td>\n",
       "      <td>B42</td>\n",
       "      <td>S</td>\n",
       "      <td>Miss</td>\n",
       "    </tr>\n",
       "    <tr>\n",
       "      <th>888</th>\n",
       "      <td>889</td>\n",
       "      <td>0</td>\n",
       "      <td>3</td>\n",
       "      <td>female</td>\n",
       "      <td>29.699118</td>\n",
       "      <td>1</td>\n",
       "      <td>2</td>\n",
       "      <td>W./C. 6607</td>\n",
       "      <td>23.4500</td>\n",
       "      <td>NaN</td>\n",
       "      <td>S</td>\n",
       "      <td>Miss</td>\n",
       "    </tr>\n",
       "    <tr>\n",
       "      <th>889</th>\n",
       "      <td>890</td>\n",
       "      <td>1</td>\n",
       "      <td>1</td>\n",
       "      <td>male</td>\n",
       "      <td>26.000000</td>\n",
       "      <td>0</td>\n",
       "      <td>0</td>\n",
       "      <td>111369</td>\n",
       "      <td>30.0000</td>\n",
       "      <td>C148</td>\n",
       "      <td>C</td>\n",
       "      <td>Mr</td>\n",
       "    </tr>\n",
       "    <tr>\n",
       "      <th>890</th>\n",
       "      <td>891</td>\n",
       "      <td>0</td>\n",
       "      <td>3</td>\n",
       "      <td>male</td>\n",
       "      <td>32.000000</td>\n",
       "      <td>0</td>\n",
       "      <td>0</td>\n",
       "      <td>370376</td>\n",
       "      <td>7.7500</td>\n",
       "      <td>NaN</td>\n",
       "      <td>Q</td>\n",
       "      <td>Mr</td>\n",
       "    </tr>\n",
       "  </tbody>\n",
       "</table>\n",
       "<p>891 rows × 12 columns</p>\n",
       "</div>"
      ],
      "text/plain": [
       "     PassengerId  Survived  Pclass     Sex        Age  SibSp  Parch  \\\n",
       "0              1         0       3    male  22.000000      1      0   \n",
       "1              2         1       1  female  38.000000      1      0   \n",
       "2              3         1       3  female  26.000000      0      0   \n",
       "3              4         1       1  female  35.000000      1      0   \n",
       "4              5         0       3    male  35.000000      0      0   \n",
       "..           ...       ...     ...     ...        ...    ...    ...   \n",
       "886          887         0       2    male  27.000000      0      0   \n",
       "887          888         1       1  female  19.000000      0      0   \n",
       "888          889         0       3  female  29.699118      1      2   \n",
       "889          890         1       1    male  26.000000      0      0   \n",
       "890          891         0       3    male  32.000000      0      0   \n",
       "\n",
       "               Ticket     Fare Cabin Embarked Title  \n",
       "0           A/5 21171  14.4542   NaN        S    Mr  \n",
       "1            PC 17599  71.2833   C85        C   Mrs  \n",
       "2    STON/O2. 3101282   7.9250   NaN        S  Miss  \n",
       "3              113803  53.1000  C123        S   Mrs  \n",
       "4              373450   8.0500   NaN        S    Mr  \n",
       "..                ...      ...   ...      ...   ...  \n",
       "886            211536  13.0000   NaN        S  Rare  \n",
       "887            112053  30.0000   B42        S  Miss  \n",
       "888        W./C. 6607  23.4500   NaN        S  Miss  \n",
       "889            111369  30.0000  C148        C    Mr  \n",
       "890            370376   7.7500   NaN        Q    Mr  \n",
       "\n",
       "[891 rows x 12 columns]"
      ]
     },
     "execution_count": 148,
     "metadata": {},
     "output_type": "execute_result"
    }
   ],
   "source": [
    "###\n",
    "### Finally drop the 'Name' column from dataframe\n",
    "### Write your code here\n",
    "###\n",
    "train.drop(['Name'], axis=1, inplace=True)\n",
    "train"
   ]
  },
  {
   "cell_type": "markdown",
   "metadata": {},
   "source": [
    "#### Members of family"
   ]
  },
  {
   "cell_type": "code",
   "execution_count": 149,
   "metadata": {},
   "outputs": [
    {
     "data": {
      "text/html": [
       "<div>\n",
       "<style scoped>\n",
       "    .dataframe tbody tr th:only-of-type {\n",
       "        vertical-align: middle;\n",
       "    }\n",
       "\n",
       "    .dataframe tbody tr th {\n",
       "        vertical-align: top;\n",
       "    }\n",
       "\n",
       "    .dataframe thead th {\n",
       "        text-align: right;\n",
       "    }\n",
       "</style>\n",
       "<table border=\"1\" class=\"dataframe\">\n",
       "  <thead>\n",
       "    <tr style=\"text-align: right;\">\n",
       "      <th></th>\n",
       "      <th>PassengerId</th>\n",
       "      <th>Survived</th>\n",
       "      <th>Pclass</th>\n",
       "      <th>Sex</th>\n",
       "      <th>Age</th>\n",
       "      <th>SibSp</th>\n",
       "      <th>Parch</th>\n",
       "      <th>Ticket</th>\n",
       "      <th>Fare</th>\n",
       "      <th>Cabin</th>\n",
       "      <th>Embarked</th>\n",
       "      <th>Title</th>\n",
       "      <th>Member</th>\n",
       "    </tr>\n",
       "  </thead>\n",
       "  <tbody>\n",
       "    <tr>\n",
       "      <th>0</th>\n",
       "      <td>1</td>\n",
       "      <td>0</td>\n",
       "      <td>3</td>\n",
       "      <td>male</td>\n",
       "      <td>22.000000</td>\n",
       "      <td>1</td>\n",
       "      <td>0</td>\n",
       "      <td>A/5 21171</td>\n",
       "      <td>14.4542</td>\n",
       "      <td>NaN</td>\n",
       "      <td>S</td>\n",
       "      <td>Mr</td>\n",
       "      <td>1</td>\n",
       "    </tr>\n",
       "    <tr>\n",
       "      <th>1</th>\n",
       "      <td>2</td>\n",
       "      <td>1</td>\n",
       "      <td>1</td>\n",
       "      <td>female</td>\n",
       "      <td>38.000000</td>\n",
       "      <td>1</td>\n",
       "      <td>0</td>\n",
       "      <td>PC 17599</td>\n",
       "      <td>71.2833</td>\n",
       "      <td>C85</td>\n",
       "      <td>C</td>\n",
       "      <td>Mrs</td>\n",
       "      <td>1</td>\n",
       "    </tr>\n",
       "    <tr>\n",
       "      <th>2</th>\n",
       "      <td>3</td>\n",
       "      <td>1</td>\n",
       "      <td>3</td>\n",
       "      <td>female</td>\n",
       "      <td>26.000000</td>\n",
       "      <td>0</td>\n",
       "      <td>0</td>\n",
       "      <td>STON/O2. 3101282</td>\n",
       "      <td>7.9250</td>\n",
       "      <td>NaN</td>\n",
       "      <td>S</td>\n",
       "      <td>Miss</td>\n",
       "      <td>0</td>\n",
       "    </tr>\n",
       "    <tr>\n",
       "      <th>3</th>\n",
       "      <td>4</td>\n",
       "      <td>1</td>\n",
       "      <td>1</td>\n",
       "      <td>female</td>\n",
       "      <td>35.000000</td>\n",
       "      <td>1</td>\n",
       "      <td>0</td>\n",
       "      <td>113803</td>\n",
       "      <td>53.1000</td>\n",
       "      <td>C123</td>\n",
       "      <td>S</td>\n",
       "      <td>Mrs</td>\n",
       "      <td>1</td>\n",
       "    </tr>\n",
       "    <tr>\n",
       "      <th>4</th>\n",
       "      <td>5</td>\n",
       "      <td>0</td>\n",
       "      <td>3</td>\n",
       "      <td>male</td>\n",
       "      <td>35.000000</td>\n",
       "      <td>0</td>\n",
       "      <td>0</td>\n",
       "      <td>373450</td>\n",
       "      <td>8.0500</td>\n",
       "      <td>NaN</td>\n",
       "      <td>S</td>\n",
       "      <td>Mr</td>\n",
       "      <td>0</td>\n",
       "    </tr>\n",
       "    <tr>\n",
       "      <th>...</th>\n",
       "      <td>...</td>\n",
       "      <td>...</td>\n",
       "      <td>...</td>\n",
       "      <td>...</td>\n",
       "      <td>...</td>\n",
       "      <td>...</td>\n",
       "      <td>...</td>\n",
       "      <td>...</td>\n",
       "      <td>...</td>\n",
       "      <td>...</td>\n",
       "      <td>...</td>\n",
       "      <td>...</td>\n",
       "      <td>...</td>\n",
       "    </tr>\n",
       "    <tr>\n",
       "      <th>886</th>\n",
       "      <td>887</td>\n",
       "      <td>0</td>\n",
       "      <td>2</td>\n",
       "      <td>male</td>\n",
       "      <td>27.000000</td>\n",
       "      <td>0</td>\n",
       "      <td>0</td>\n",
       "      <td>211536</td>\n",
       "      <td>13.0000</td>\n",
       "      <td>NaN</td>\n",
       "      <td>S</td>\n",
       "      <td>Rare</td>\n",
       "      <td>0</td>\n",
       "    </tr>\n",
       "    <tr>\n",
       "      <th>887</th>\n",
       "      <td>888</td>\n",
       "      <td>1</td>\n",
       "      <td>1</td>\n",
       "      <td>female</td>\n",
       "      <td>19.000000</td>\n",
       "      <td>0</td>\n",
       "      <td>0</td>\n",
       "      <td>112053</td>\n",
       "      <td>30.0000</td>\n",
       "      <td>B42</td>\n",
       "      <td>S</td>\n",
       "      <td>Miss</td>\n",
       "      <td>0</td>\n",
       "    </tr>\n",
       "    <tr>\n",
       "      <th>888</th>\n",
       "      <td>889</td>\n",
       "      <td>0</td>\n",
       "      <td>3</td>\n",
       "      <td>female</td>\n",
       "      <td>29.699118</td>\n",
       "      <td>1</td>\n",
       "      <td>2</td>\n",
       "      <td>W./C. 6607</td>\n",
       "      <td>23.4500</td>\n",
       "      <td>NaN</td>\n",
       "      <td>S</td>\n",
       "      <td>Miss</td>\n",
       "      <td>3</td>\n",
       "    </tr>\n",
       "    <tr>\n",
       "      <th>889</th>\n",
       "      <td>890</td>\n",
       "      <td>1</td>\n",
       "      <td>1</td>\n",
       "      <td>male</td>\n",
       "      <td>26.000000</td>\n",
       "      <td>0</td>\n",
       "      <td>0</td>\n",
       "      <td>111369</td>\n",
       "      <td>30.0000</td>\n",
       "      <td>C148</td>\n",
       "      <td>C</td>\n",
       "      <td>Mr</td>\n",
       "      <td>0</td>\n",
       "    </tr>\n",
       "    <tr>\n",
       "      <th>890</th>\n",
       "      <td>891</td>\n",
       "      <td>0</td>\n",
       "      <td>3</td>\n",
       "      <td>male</td>\n",
       "      <td>32.000000</td>\n",
       "      <td>0</td>\n",
       "      <td>0</td>\n",
       "      <td>370376</td>\n",
       "      <td>7.7500</td>\n",
       "      <td>NaN</td>\n",
       "      <td>Q</td>\n",
       "      <td>Mr</td>\n",
       "      <td>0</td>\n",
       "    </tr>\n",
       "  </tbody>\n",
       "</table>\n",
       "<p>891 rows × 13 columns</p>\n",
       "</div>"
      ],
      "text/plain": [
       "     PassengerId  Survived  Pclass     Sex        Age  SibSp  Parch  \\\n",
       "0              1         0       3    male  22.000000      1      0   \n",
       "1              2         1       1  female  38.000000      1      0   \n",
       "2              3         1       3  female  26.000000      0      0   \n",
       "3              4         1       1  female  35.000000      1      0   \n",
       "4              5         0       3    male  35.000000      0      0   \n",
       "..           ...       ...     ...     ...        ...    ...    ...   \n",
       "886          887         0       2    male  27.000000      0      0   \n",
       "887          888         1       1  female  19.000000      0      0   \n",
       "888          889         0       3  female  29.699118      1      2   \n",
       "889          890         1       1    male  26.000000      0      0   \n",
       "890          891         0       3    male  32.000000      0      0   \n",
       "\n",
       "               Ticket     Fare Cabin Embarked Title  Member  \n",
       "0           A/5 21171  14.4542   NaN        S    Mr       1  \n",
       "1            PC 17599  71.2833   C85        C   Mrs       1  \n",
       "2    STON/O2. 3101282   7.9250   NaN        S  Miss       0  \n",
       "3              113803  53.1000  C123        S   Mrs       1  \n",
       "4              373450   8.0500   NaN        S    Mr       0  \n",
       "..                ...      ...   ...      ...   ...     ...  \n",
       "886            211536  13.0000   NaN        S  Rare       0  \n",
       "887            112053  30.0000   B42        S  Miss       0  \n",
       "888        W./C. 6607  23.4500   NaN        S  Miss       3  \n",
       "889            111369  30.0000  C148        C    Mr       0  \n",
       "890            370376   7.7500   NaN        Q    Mr       0  \n",
       "\n",
       "[891 rows x 13 columns]"
      ]
     },
     "execution_count": 149,
     "metadata": {},
     "output_type": "execute_result"
    }
   ],
   "source": [
    "###\n",
    "### SibSp represents # of siblings/spouses aboard the ship\n",
    "### Parch represents # of parents/children aboard the titanic\n",
    "###\n",
    "### If we add these two variables we can get the family size of each passenger.\n",
    "### Create a new variable called 'Members' by adding SibSp and Parch for each passenger\n",
    "### \n",
    "### Write your code here\n",
    "###\n",
    "train['Member'] = train['SibSp']+train['Parch']\n",
    "train"
   ]
  },
  {
   "cell_type": "code",
   "execution_count": 150,
   "metadata": {},
   "outputs": [
    {
     "data": {
      "text/html": [
       "<div>\n",
       "<style scoped>\n",
       "    .dataframe tbody tr th:only-of-type {\n",
       "        vertical-align: middle;\n",
       "    }\n",
       "\n",
       "    .dataframe tbody tr th {\n",
       "        vertical-align: top;\n",
       "    }\n",
       "\n",
       "    .dataframe thead th {\n",
       "        text-align: right;\n",
       "    }\n",
       "</style>\n",
       "<table border=\"1\" class=\"dataframe\">\n",
       "  <thead>\n",
       "    <tr style=\"text-align: right;\">\n",
       "      <th></th>\n",
       "      <th>PassengerId</th>\n",
       "      <th>Survived</th>\n",
       "      <th>Pclass</th>\n",
       "      <th>Sex</th>\n",
       "      <th>Age</th>\n",
       "      <th>SibSp</th>\n",
       "      <th>Parch</th>\n",
       "      <th>Ticket</th>\n",
       "      <th>Fare</th>\n",
       "      <th>Cabin</th>\n",
       "      <th>Embarked</th>\n",
       "      <th>Title</th>\n",
       "      <th>Member</th>\n",
       "      <th>Alone</th>\n",
       "    </tr>\n",
       "  </thead>\n",
       "  <tbody>\n",
       "    <tr>\n",
       "      <th>0</th>\n",
       "      <td>1</td>\n",
       "      <td>0</td>\n",
       "      <td>3</td>\n",
       "      <td>male</td>\n",
       "      <td>22.000000</td>\n",
       "      <td>1</td>\n",
       "      <td>0</td>\n",
       "      <td>A/5 21171</td>\n",
       "      <td>14.4542</td>\n",
       "      <td>NaN</td>\n",
       "      <td>S</td>\n",
       "      <td>Mr</td>\n",
       "      <td>1</td>\n",
       "      <td>0</td>\n",
       "    </tr>\n",
       "    <tr>\n",
       "      <th>1</th>\n",
       "      <td>2</td>\n",
       "      <td>1</td>\n",
       "      <td>1</td>\n",
       "      <td>female</td>\n",
       "      <td>38.000000</td>\n",
       "      <td>1</td>\n",
       "      <td>0</td>\n",
       "      <td>PC 17599</td>\n",
       "      <td>71.2833</td>\n",
       "      <td>C85</td>\n",
       "      <td>C</td>\n",
       "      <td>Mrs</td>\n",
       "      <td>1</td>\n",
       "      <td>0</td>\n",
       "    </tr>\n",
       "    <tr>\n",
       "      <th>2</th>\n",
       "      <td>3</td>\n",
       "      <td>1</td>\n",
       "      <td>3</td>\n",
       "      <td>female</td>\n",
       "      <td>26.000000</td>\n",
       "      <td>0</td>\n",
       "      <td>0</td>\n",
       "      <td>STON/O2. 3101282</td>\n",
       "      <td>7.9250</td>\n",
       "      <td>NaN</td>\n",
       "      <td>S</td>\n",
       "      <td>Miss</td>\n",
       "      <td>0</td>\n",
       "      <td>1</td>\n",
       "    </tr>\n",
       "    <tr>\n",
       "      <th>3</th>\n",
       "      <td>4</td>\n",
       "      <td>1</td>\n",
       "      <td>1</td>\n",
       "      <td>female</td>\n",
       "      <td>35.000000</td>\n",
       "      <td>1</td>\n",
       "      <td>0</td>\n",
       "      <td>113803</td>\n",
       "      <td>53.1000</td>\n",
       "      <td>C123</td>\n",
       "      <td>S</td>\n",
       "      <td>Mrs</td>\n",
       "      <td>1</td>\n",
       "      <td>0</td>\n",
       "    </tr>\n",
       "    <tr>\n",
       "      <th>4</th>\n",
       "      <td>5</td>\n",
       "      <td>0</td>\n",
       "      <td>3</td>\n",
       "      <td>male</td>\n",
       "      <td>35.000000</td>\n",
       "      <td>0</td>\n",
       "      <td>0</td>\n",
       "      <td>373450</td>\n",
       "      <td>8.0500</td>\n",
       "      <td>NaN</td>\n",
       "      <td>S</td>\n",
       "      <td>Mr</td>\n",
       "      <td>0</td>\n",
       "      <td>1</td>\n",
       "    </tr>\n",
       "    <tr>\n",
       "      <th>...</th>\n",
       "      <td>...</td>\n",
       "      <td>...</td>\n",
       "      <td>...</td>\n",
       "      <td>...</td>\n",
       "      <td>...</td>\n",
       "      <td>...</td>\n",
       "      <td>...</td>\n",
       "      <td>...</td>\n",
       "      <td>...</td>\n",
       "      <td>...</td>\n",
       "      <td>...</td>\n",
       "      <td>...</td>\n",
       "      <td>...</td>\n",
       "      <td>...</td>\n",
       "    </tr>\n",
       "    <tr>\n",
       "      <th>886</th>\n",
       "      <td>887</td>\n",
       "      <td>0</td>\n",
       "      <td>2</td>\n",
       "      <td>male</td>\n",
       "      <td>27.000000</td>\n",
       "      <td>0</td>\n",
       "      <td>0</td>\n",
       "      <td>211536</td>\n",
       "      <td>13.0000</td>\n",
       "      <td>NaN</td>\n",
       "      <td>S</td>\n",
       "      <td>Rare</td>\n",
       "      <td>0</td>\n",
       "      <td>1</td>\n",
       "    </tr>\n",
       "    <tr>\n",
       "      <th>887</th>\n",
       "      <td>888</td>\n",
       "      <td>1</td>\n",
       "      <td>1</td>\n",
       "      <td>female</td>\n",
       "      <td>19.000000</td>\n",
       "      <td>0</td>\n",
       "      <td>0</td>\n",
       "      <td>112053</td>\n",
       "      <td>30.0000</td>\n",
       "      <td>B42</td>\n",
       "      <td>S</td>\n",
       "      <td>Miss</td>\n",
       "      <td>0</td>\n",
       "      <td>1</td>\n",
       "    </tr>\n",
       "    <tr>\n",
       "      <th>888</th>\n",
       "      <td>889</td>\n",
       "      <td>0</td>\n",
       "      <td>3</td>\n",
       "      <td>female</td>\n",
       "      <td>29.699118</td>\n",
       "      <td>1</td>\n",
       "      <td>2</td>\n",
       "      <td>W./C. 6607</td>\n",
       "      <td>23.4500</td>\n",
       "      <td>NaN</td>\n",
       "      <td>S</td>\n",
       "      <td>Miss</td>\n",
       "      <td>3</td>\n",
       "      <td>0</td>\n",
       "    </tr>\n",
       "    <tr>\n",
       "      <th>889</th>\n",
       "      <td>890</td>\n",
       "      <td>1</td>\n",
       "      <td>1</td>\n",
       "      <td>male</td>\n",
       "      <td>26.000000</td>\n",
       "      <td>0</td>\n",
       "      <td>0</td>\n",
       "      <td>111369</td>\n",
       "      <td>30.0000</td>\n",
       "      <td>C148</td>\n",
       "      <td>C</td>\n",
       "      <td>Mr</td>\n",
       "      <td>0</td>\n",
       "      <td>1</td>\n",
       "    </tr>\n",
       "    <tr>\n",
       "      <th>890</th>\n",
       "      <td>891</td>\n",
       "      <td>0</td>\n",
       "      <td>3</td>\n",
       "      <td>male</td>\n",
       "      <td>32.000000</td>\n",
       "      <td>0</td>\n",
       "      <td>0</td>\n",
       "      <td>370376</td>\n",
       "      <td>7.7500</td>\n",
       "      <td>NaN</td>\n",
       "      <td>Q</td>\n",
       "      <td>Mr</td>\n",
       "      <td>0</td>\n",
       "      <td>1</td>\n",
       "    </tr>\n",
       "  </tbody>\n",
       "</table>\n",
       "<p>891 rows × 14 columns</p>\n",
       "</div>"
      ],
      "text/plain": [
       "     PassengerId  Survived  Pclass     Sex        Age  SibSp  Parch  \\\n",
       "0              1         0       3    male  22.000000      1      0   \n",
       "1              2         1       1  female  38.000000      1      0   \n",
       "2              3         1       3  female  26.000000      0      0   \n",
       "3              4         1       1  female  35.000000      1      0   \n",
       "4              5         0       3    male  35.000000      0      0   \n",
       "..           ...       ...     ...     ...        ...    ...    ...   \n",
       "886          887         0       2    male  27.000000      0      0   \n",
       "887          888         1       1  female  19.000000      0      0   \n",
       "888          889         0       3  female  29.699118      1      2   \n",
       "889          890         1       1    male  26.000000      0      0   \n",
       "890          891         0       3    male  32.000000      0      0   \n",
       "\n",
       "               Ticket     Fare Cabin Embarked Title  Member  Alone  \n",
       "0           A/5 21171  14.4542   NaN        S    Mr       1      0  \n",
       "1            PC 17599  71.2833   C85        C   Mrs       1      0  \n",
       "2    STON/O2. 3101282   7.9250   NaN        S  Miss       0      1  \n",
       "3              113803  53.1000  C123        S   Mrs       1      0  \n",
       "4              373450   8.0500   NaN        S    Mr       0      1  \n",
       "..                ...      ...   ...      ...   ...     ...    ...  \n",
       "886            211536  13.0000   NaN        S  Rare       0      1  \n",
       "887            112053  30.0000   B42        S  Miss       0      1  \n",
       "888        W./C. 6607  23.4500   NaN        S  Miss       3      0  \n",
       "889            111369  30.0000  C148        C    Mr       0      1  \n",
       "890            370376   7.7500   NaN        Q    Mr       0      1  \n",
       "\n",
       "[891 rows x 14 columns]"
      ]
     },
     "execution_count": 150,
     "metadata": {},
     "output_type": "execute_result"
    }
   ],
   "source": [
    "### \n",
    "### If the count add up to zero it means the person is travelling alone else not.\n",
    "### Create a new boolean column called 'Alone'\n",
    "### It would be 1 if the passenger is travelling alone else 0.\n",
    "###\n",
    "### Write your code here\n",
    "###\n",
    "train[\"Alone\"] = np.where(train[\"Member\"] == 0, 1, 0)\n",
    "train\n"
   ]
  },
  {
   "cell_type": "markdown",
   "metadata": {},
   "source": [
    "#### Age"
   ]
  },
  {
   "cell_type": "code",
   "execution_count": 152,
   "metadata": {},
   "outputs": [
    {
     "data": {
      "text/plain": [
       "Sex\n",
       "female    28.216730\n",
       "male      30.505824\n",
       "Name: Age, dtype: float64"
      ]
     },
     "execution_count": 152,
     "metadata": {},
     "output_type": "execute_result"
    }
   ],
   "source": [
    "###\n",
    "### In the first Homework you might have replaced missing values with mean of column.\n",
    "### It is absolutely fine to use the mean. \n",
    "### However, an alternative approach could be to replace using grouping.\n",
    "### For example, we would group all males and females and take their mean separately\n",
    "### Now we would check that if the passenger is male we would replace it's missing age with male's mean and vice versa.\n",
    "###\n",
    "### Implement the above strategy for replacing missing age values\n",
    "###\n",
    "### Write your code here\n",
    "###\n",
    "mean_ages = train.groupby('Sex')['Age'].mean()\n",
    "mean_ages"
   ]
  },
  {
   "cell_type": "code",
   "execution_count": 155,
   "metadata": {},
   "outputs": [],
   "source": [
    "train.loc[(train[\"Sex\"] == \"male\") & (train[\"Age\"].isnull()), \"Age\"] = mean_ages[\"male\"]\n",
    "train.loc[(train[\"Sex\"] == \"female\") & (train[\"Age\"].isnull()), \"Age\"] = mean_ages[\"female\"]"
   ]
  },
  {
   "cell_type": "markdown",
   "metadata": {},
   "source": [
    "#### Has Cabin"
   ]
  },
  {
   "cell_type": "code",
   "execution_count": 162,
   "metadata": {},
   "outputs": [],
   "source": [
    "###\n",
    "### Check total null values in the column 'Cabin'\n",
    "### You might notice that it has a lot of null values.\n",
    "### A natural choice would be to immediately drop this variable.\n",
    "### However, this variable might help us differentiate among passengers having cabin or not.\n",
    "###\n",
    "### Create a new boolean column called 'has_cabin' \n",
    "### It would be 1 if there is some value in cabin else it would be zero\n",
    "### i.e. if there is no cabin then we would put a '0' in has_cabin column\n",
    "###\n",
    "### Write your code here\n",
    "###\n",
    "\n",
    "train[\"has_cabin\"] = np.where(train[\"Cabin\"].isna(), 0, 1)"
   ]
  },
  {
   "cell_type": "code",
   "execution_count": 163,
   "metadata": {},
   "outputs": [
    {
     "data": {
      "text/html": [
       "<div>\n",
       "<style scoped>\n",
       "    .dataframe tbody tr th:only-of-type {\n",
       "        vertical-align: middle;\n",
       "    }\n",
       "\n",
       "    .dataframe tbody tr th {\n",
       "        vertical-align: top;\n",
       "    }\n",
       "\n",
       "    .dataframe thead th {\n",
       "        text-align: right;\n",
       "    }\n",
       "</style>\n",
       "<table border=\"1\" class=\"dataframe\">\n",
       "  <thead>\n",
       "    <tr style=\"text-align: right;\">\n",
       "      <th></th>\n",
       "      <th>PassengerId</th>\n",
       "      <th>Survived</th>\n",
       "      <th>Pclass</th>\n",
       "      <th>Sex</th>\n",
       "      <th>Age</th>\n",
       "      <th>SibSp</th>\n",
       "      <th>Parch</th>\n",
       "      <th>Ticket</th>\n",
       "      <th>Fare</th>\n",
       "      <th>Cabin</th>\n",
       "      <th>Embarked</th>\n",
       "      <th>Title</th>\n",
       "      <th>Member</th>\n",
       "      <th>Alone</th>\n",
       "      <th>has_cabin</th>\n",
       "    </tr>\n",
       "  </thead>\n",
       "  <tbody>\n",
       "    <tr>\n",
       "      <th>0</th>\n",
       "      <td>1</td>\n",
       "      <td>0</td>\n",
       "      <td>3</td>\n",
       "      <td>male</td>\n",
       "      <td>22.000000</td>\n",
       "      <td>1</td>\n",
       "      <td>0</td>\n",
       "      <td>A/5 21171</td>\n",
       "      <td>14.4542</td>\n",
       "      <td>NaN</td>\n",
       "      <td>S</td>\n",
       "      <td>Mr</td>\n",
       "      <td>1</td>\n",
       "      <td>0</td>\n",
       "      <td>0</td>\n",
       "    </tr>\n",
       "    <tr>\n",
       "      <th>1</th>\n",
       "      <td>2</td>\n",
       "      <td>1</td>\n",
       "      <td>1</td>\n",
       "      <td>female</td>\n",
       "      <td>38.000000</td>\n",
       "      <td>1</td>\n",
       "      <td>0</td>\n",
       "      <td>PC 17599</td>\n",
       "      <td>71.2833</td>\n",
       "      <td>C85</td>\n",
       "      <td>C</td>\n",
       "      <td>Mrs</td>\n",
       "      <td>1</td>\n",
       "      <td>0</td>\n",
       "      <td>1</td>\n",
       "    </tr>\n",
       "    <tr>\n",
       "      <th>2</th>\n",
       "      <td>3</td>\n",
       "      <td>1</td>\n",
       "      <td>3</td>\n",
       "      <td>female</td>\n",
       "      <td>26.000000</td>\n",
       "      <td>0</td>\n",
       "      <td>0</td>\n",
       "      <td>STON/O2. 3101282</td>\n",
       "      <td>7.9250</td>\n",
       "      <td>NaN</td>\n",
       "      <td>S</td>\n",
       "      <td>Miss</td>\n",
       "      <td>0</td>\n",
       "      <td>1</td>\n",
       "      <td>0</td>\n",
       "    </tr>\n",
       "    <tr>\n",
       "      <th>3</th>\n",
       "      <td>4</td>\n",
       "      <td>1</td>\n",
       "      <td>1</td>\n",
       "      <td>female</td>\n",
       "      <td>35.000000</td>\n",
       "      <td>1</td>\n",
       "      <td>0</td>\n",
       "      <td>113803</td>\n",
       "      <td>53.1000</td>\n",
       "      <td>C123</td>\n",
       "      <td>S</td>\n",
       "      <td>Mrs</td>\n",
       "      <td>1</td>\n",
       "      <td>0</td>\n",
       "      <td>1</td>\n",
       "    </tr>\n",
       "    <tr>\n",
       "      <th>4</th>\n",
       "      <td>5</td>\n",
       "      <td>0</td>\n",
       "      <td>3</td>\n",
       "      <td>male</td>\n",
       "      <td>35.000000</td>\n",
       "      <td>0</td>\n",
       "      <td>0</td>\n",
       "      <td>373450</td>\n",
       "      <td>8.0500</td>\n",
       "      <td>NaN</td>\n",
       "      <td>S</td>\n",
       "      <td>Mr</td>\n",
       "      <td>0</td>\n",
       "      <td>1</td>\n",
       "      <td>0</td>\n",
       "    </tr>\n",
       "    <tr>\n",
       "      <th>...</th>\n",
       "      <td>...</td>\n",
       "      <td>...</td>\n",
       "      <td>...</td>\n",
       "      <td>...</td>\n",
       "      <td>...</td>\n",
       "      <td>...</td>\n",
       "      <td>...</td>\n",
       "      <td>...</td>\n",
       "      <td>...</td>\n",
       "      <td>...</td>\n",
       "      <td>...</td>\n",
       "      <td>...</td>\n",
       "      <td>...</td>\n",
       "      <td>...</td>\n",
       "      <td>...</td>\n",
       "    </tr>\n",
       "    <tr>\n",
       "      <th>886</th>\n",
       "      <td>887</td>\n",
       "      <td>0</td>\n",
       "      <td>2</td>\n",
       "      <td>male</td>\n",
       "      <td>27.000000</td>\n",
       "      <td>0</td>\n",
       "      <td>0</td>\n",
       "      <td>211536</td>\n",
       "      <td>13.0000</td>\n",
       "      <td>NaN</td>\n",
       "      <td>S</td>\n",
       "      <td>Rare</td>\n",
       "      <td>0</td>\n",
       "      <td>1</td>\n",
       "      <td>0</td>\n",
       "    </tr>\n",
       "    <tr>\n",
       "      <th>887</th>\n",
       "      <td>888</td>\n",
       "      <td>1</td>\n",
       "      <td>1</td>\n",
       "      <td>female</td>\n",
       "      <td>19.000000</td>\n",
       "      <td>0</td>\n",
       "      <td>0</td>\n",
       "      <td>112053</td>\n",
       "      <td>30.0000</td>\n",
       "      <td>B42</td>\n",
       "      <td>S</td>\n",
       "      <td>Miss</td>\n",
       "      <td>0</td>\n",
       "      <td>1</td>\n",
       "      <td>1</td>\n",
       "    </tr>\n",
       "    <tr>\n",
       "      <th>888</th>\n",
       "      <td>889</td>\n",
       "      <td>0</td>\n",
       "      <td>3</td>\n",
       "      <td>female</td>\n",
       "      <td>29.699118</td>\n",
       "      <td>1</td>\n",
       "      <td>2</td>\n",
       "      <td>W./C. 6607</td>\n",
       "      <td>23.4500</td>\n",
       "      <td>NaN</td>\n",
       "      <td>S</td>\n",
       "      <td>Miss</td>\n",
       "      <td>3</td>\n",
       "      <td>0</td>\n",
       "      <td>0</td>\n",
       "    </tr>\n",
       "    <tr>\n",
       "      <th>889</th>\n",
       "      <td>890</td>\n",
       "      <td>1</td>\n",
       "      <td>1</td>\n",
       "      <td>male</td>\n",
       "      <td>26.000000</td>\n",
       "      <td>0</td>\n",
       "      <td>0</td>\n",
       "      <td>111369</td>\n",
       "      <td>30.0000</td>\n",
       "      <td>C148</td>\n",
       "      <td>C</td>\n",
       "      <td>Mr</td>\n",
       "      <td>0</td>\n",
       "      <td>1</td>\n",
       "      <td>1</td>\n",
       "    </tr>\n",
       "    <tr>\n",
       "      <th>890</th>\n",
       "      <td>891</td>\n",
       "      <td>0</td>\n",
       "      <td>3</td>\n",
       "      <td>male</td>\n",
       "      <td>32.000000</td>\n",
       "      <td>0</td>\n",
       "      <td>0</td>\n",
       "      <td>370376</td>\n",
       "      <td>7.7500</td>\n",
       "      <td>NaN</td>\n",
       "      <td>Q</td>\n",
       "      <td>Mr</td>\n",
       "      <td>0</td>\n",
       "      <td>1</td>\n",
       "      <td>0</td>\n",
       "    </tr>\n",
       "  </tbody>\n",
       "</table>\n",
       "<p>891 rows × 15 columns</p>\n",
       "</div>"
      ],
      "text/plain": [
       "     PassengerId  Survived  Pclass     Sex        Age  SibSp  Parch  \\\n",
       "0              1         0       3    male  22.000000      1      0   \n",
       "1              2         1       1  female  38.000000      1      0   \n",
       "2              3         1       3  female  26.000000      0      0   \n",
       "3              4         1       1  female  35.000000      1      0   \n",
       "4              5         0       3    male  35.000000      0      0   \n",
       "..           ...       ...     ...     ...        ...    ...    ...   \n",
       "886          887         0       2    male  27.000000      0      0   \n",
       "887          888         1       1  female  19.000000      0      0   \n",
       "888          889         0       3  female  29.699118      1      2   \n",
       "889          890         1       1    male  26.000000      0      0   \n",
       "890          891         0       3    male  32.000000      0      0   \n",
       "\n",
       "               Ticket     Fare Cabin Embarked Title  Member  Alone  has_cabin  \n",
       "0           A/5 21171  14.4542   NaN        S    Mr       1      0          0  \n",
       "1            PC 17599  71.2833   C85        C   Mrs       1      0          1  \n",
       "2    STON/O2. 3101282   7.9250   NaN        S  Miss       0      1          0  \n",
       "3              113803  53.1000  C123        S   Mrs       1      0          1  \n",
       "4              373450   8.0500   NaN        S    Mr       0      1          0  \n",
       "..                ...      ...   ...      ...   ...     ...    ...        ...  \n",
       "886            211536  13.0000   NaN        S  Rare       0      1          0  \n",
       "887            112053  30.0000   B42        S  Miss       0      1          1  \n",
       "888        W./C. 6607  23.4500   NaN        S  Miss       3      0          0  \n",
       "889            111369  30.0000  C148        C    Mr       0      1          1  \n",
       "890            370376   7.7500   NaN        Q    Mr       0      1          0  \n",
       "\n",
       "[891 rows x 15 columns]"
      ]
     },
     "execution_count": 163,
     "metadata": {},
     "output_type": "execute_result"
    }
   ],
   "source": [
    "#train.drop(['PassengerId','Ticket','Cabin', 'SibSp', 'Parch'],axis=1,inplace=True)\n",
    "train"
   ]
  },
  {
   "cell_type": "markdown",
   "metadata": {},
   "source": [
    "Probably now you would have more features then before. Feature Engineering is an art, coming up with meaningful features is a big skill and comes by domain knowledge and practice.\n",
    "* You are free to play around and come up with your own features such that they are also useful in prediction."
   ]
  },
  {
   "cell_type": "markdown",
   "metadata": {},
   "source": [
    "### Pre-processing on Numeric Data"
   ]
  },
  {
   "cell_type": "markdown",
   "metadata": {},
   "source": [
    "#### Transformations\n",
    "\n",
    "A variable transformation refers to a transformation that is applied to all the values of a variable. For example, if only the magnitude of a variable is important, then the values of the variable can be transformed by taking the absolute value. If $x$ is a variable, then examples of such transformations include $x^k$, $log(x)$, $e^x$, $\\sqrt{x}$ and others.\n",
    "\n",
    "\n",
    "#### Standardization\n",
    "\n",
    "The result of standardization (or Z-score normalization) is that the features will be rescaled so that they’ll have the properties of a standard normal distribution with $\\mu = 0$ and $\\sigma = 1$, where $\\mu$ is the mean (average) and $\\sigma$ is the standard deviation;\n",
    "\n",
    "Standard scores (also called z scores) of the samples are calculated as follows:\n",
    "\n",
    "$$z = \\frac{x-\\mu}{\\sigma}$$\n",
    "\n",
    "Standardizing the features so that they are centered around 0 with a standard deviation of 1 is not only important if we are comparing measurements that have different units, but it is also a general requirement for many machine learning algorithms. Intuitively, we can think of gradient descent as a prominent example (an optimization algorithm often used in logistic regression, SVMs, perceptrons, neural networks etc.); with features being on different scales, certain weights may update faster than others since the feature values $x_j$ play a role in the weight updates.\n",
    "\n",
    "#### Normalization\n",
    "\n",
    "An alternative approach to Z-score normalization (or standardization) is the so-called Min-Max scaling (often also simply called “Min Max Normalization”).\n",
    "In this approach, the data is scaled to a fixed range - usually 0 to 1.\n",
    "\n",
    "A Min-Max scaling is typically done via the following equation:\n",
    "\n",
    "$$ X_{norm} = \\frac{X - X_{min}}{X_{max} - X_{min}}$$\n",
    "\n",
    "#### Discretization\n",
    "\n",
    "Discretization(binning) is an unsupervised method that transforms numerical variable into categorical counterparts but do not use the target (class) information. Equal Width and Equal Frequency are two unsupervised binning methods.\n",
    "\n",
    " \t\t\n",
    "##### 1- Equal Width Binning\n",
    "The algorithm divides the data into $k$ intervals of equal size. The width of intervals is:\t\t\n",
    "$$ w = \\frac{max-min}{k}$$\n",
    "\n",
    "And the interval boundaries are:\t\n",
    "\n",
    "$$ min+w, min+2w, ... , min+(k-1)w $$\n",
    "\n",
    "##### 2- Equal Frequency Binning\n",
    "The algorithm divides the data into $k$ groups which each group contains approximately same number of values. For the both methods, the best way of determining $k$ is by looking at the histogram and try different intervals or groups.\t"
   ]
  },
  {
   "cell_type": "code",
   "execution_count": 170,
   "metadata": {},
   "outputs": [],
   "source": [
    "### Test Pre-processing\n",
    "\n",
    "### Use the age variable as input.\n",
    "### Test the functions normalize(), standardize() and discretize()\n",
    "### Display your result in the form of graphs\n",
    "### 1 - plot a graph for original age\n",
    "### 2 - plot a graph for gaussian transformed age\n",
    "### 3 - plot a graph for standardized age\n",
    "### 4 - plot a graph for normalized age\n",
    "### 5 - plot a graph for discretized age with equal_width\n",
    "### 6 - plot a graph for discretized age with equal_frequency"
   ]
  },
  {
   "cell_type": "code",
   "execution_count": 169,
   "metadata": {},
   "outputs": [
    {
     "data": {
      "image/png": "[encoded data removed]",
      "text/plain": [
       "<Figure size 640x480 with 1 Axes>"
      ]
     },
     "metadata": {},
     "output_type": "display_data"
    }
   ],
   "source": [
    "plt.hist(train['Age'], bins = 10)\n",
    "plt.xlabel('Age')\n",
    "plt.ylabel('Frequency')\n",
    "plt.show()"
   ]
  },
  {
   "cell_type": "code",
   "execution_count": 171,
   "metadata": {},
   "outputs": [
    {
     "data": {
      "image/png": "[encoded data removed]",
      "text/plain": [
       "<Figure size 640x480 with 1 Axes>"
      ]
     },
     "metadata": {},
     "output_type": "display_data"
    }
   ],
   "source": [
    "mean = train['Age'].mean()\n",
    "std = train['Age'].std()\n",
    "\n",
    "gaussian_age = np.random.normal(mean, std, len(train))\n",
    "\n",
    "plt.hist(gaussian_age, bins=10)\n",
    "plt.xlabel('Age')\n",
    "plt.ylabel('Frequency')\n",
    "plt.show()"
   ]
  },
  {
   "cell_type": "markdown",
   "metadata": {},
   "source": [
    "#### Encoding"
   ]
  },
  {
   "cell_type": "code",
   "execution_count": null,
   "metadata": {},
   "outputs": [],
   "source": [
    "### \n",
    "### Encode your categorical/strings data to numeric format\n",
    "### Do not use any built-in library\n",
    "### Write your code here\n",
    "###"
   ]
  },
  {
   "cell_type": "markdown",
   "metadata": {},
   "source": [
    "### We will stop Here. In the next assignment, we will use all of the above features to train Machine Learning Models"
   ]
  },
  {
   "cell_type": "markdown",
   "metadata": {},
   "source": [
    "# Part 2 - Similarity and Dissimilarity Matrix"
   ]
  },
  {
   "cell_type": "markdown",
   "metadata": {},
   "source": [
    "You are given a CSV file that resides in the folder Part 2 having name \"chipotle.csv\""
   ]
  },
  {
   "cell_type": "markdown",
   "metadata": {},
   "source": [
    "**You have to do the following tasks.**\n",
    "* Go through the data carefully.\n",
    "* Try to understand its attributes.\n",
    "* You should probably know which type each attribute belongs to. For example, Nominal, Ordinal etc.\n",
    "* You have studied in class to calculate similarity and dissimilarity between different type of attributes.\n",
    "* You have also studied how to calculate similarity btween objects that have attributes of mixed types.\n",
    "* Go through the data carefully and create a Similarity and Dissimilarity matrix of the given dataset.\n",
    "* To calculate the similarity score between two objects, you should write a function and pass two objects as input"
   ]
  },
  {
   "cell_type": "code",
   "execution_count": null,
   "metadata": {},
   "outputs": [],
   "source": [
    "#Write your code to calculate the similarity matrix and save this matrix as \"Similarity Score.csv\""
   ]
  },
  {
   "cell_type": "code",
   "execution_count": null,
   "metadata": {},
   "outputs": [],
   "source": [
    "#Write your code to calculate the dissimilarity matrix and save this matrix as \"Dissimilarity Score.csv\""
   ]
  },
  {
   "cell_type": "markdown",
   "metadata": {},
   "source": [
    "#### Conclusion"
   ]
  },
  {
   "cell_type": "markdown",
   "metadata": {},
   "source": [
    "* This was an introductory notebook to real world data science problems.\n",
    "* We skipped some concepts but will go through them in future.\n",
    "* However, if you have reached so far. **Great Work!!!**\n",
    "<br><br>\n",
    "<img src=\"img/great-work.jpg\">\n"
   ]
  },
  {
   "cell_type": "markdown",
   "metadata": {},
   "source": [
    "#### References"
   ]
  },
  {
   "cell_type": "markdown",
   "metadata": {},
   "source": [
    "[1] https://www.ibm.com/developerworks/library/ba-intro-data-science-1/index.html\n",
    "<br>\n",
    "[2] http://ml-cheatsheet.readthedocs.io/en/latest/logistic_regression.html\n",
    "<br>\n",
    "[3] https://medium.com/ibm-data-science-experience/markdown-for-jupyter-notebooks-cheatsheet-386c05aeebed\n",
    "<br>\n",
    "[4] Tan, Pang-Ning. Introduction to data mining. Pearson Education India, 2006.\n",
    "<br>\n",
    "[5] T. Hastie, R. Tibshirani and J. Friedman. Elements of Statistical Learning, Springer, 2009.\n",
    "<br>\n",
    "[6] http://scikit-learn.org/stable/modules/tree.html\n",
    "<br>\n",
    "[7] J.R. Quinlan. C4. 5: programs for machine learning. Morgan Kaufmann, 1993.\n",
    "<br>\n",
    "[8] L. Breiman, J. Friedman, R. Olshen, and C. Stone. Classification and Regression Trees. Wadsworth, Belmont, CA, 1984.\n",
    "<br>\n",
    "[9] http://scikit-learn.org/stable/modules/generated/sklearn.tree.DecisionTreeClassifier.html\n",
    "<br>\n",
    "[10] http://scikit-learn.org/stable/modules/generated/sklearn.linear_model.LogisticRegression.html\n",
    "<br>\n",
    "[11] http://scikit-learn.org/stable/modules/generated/sklearn.model_selection.train_test_split.html\n",
    "<br>\n",
    "[12] https://matplotlib.org/contents.html\n",
    "<br>\n",
    "[13] https://docs.scipy.org/doc/numpy/reference/index.html\n",
    "<br>\n",
    "[14] http://pandas.pydata.org/pandas-docs/stable/\n",
    "<br>\n",
    "[15] http://scikit-learn.org/stable/modules/generated/sklearn.metrics.accuracy_score.html"
   ]
  },
  {
   "cell_type": "code",
   "execution_count": null,
   "metadata": {},
   "outputs": [],
   "source": []
  }
 ],
 "metadata": {
  "kernelspec": {
   "display_name": "Python 3 (ipykernel)",
   "language": "python",
   "name": "python3"
  },
  "language_info": {
   "codemirror_mode": {
    "name": "ipython",
    "version": 3
   },
   "file_extension": ".py",
   "mimetype": "text/x-python",
   "name": "python",
   "nbconvert_exporter": "python",
   "pygments_lexer": "ipython3",
   "version": "3.10.5"
  }
 },
 "nbformat": 4,
 "nbformat_minor": 2
}
